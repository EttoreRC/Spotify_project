{
 "cells": [
  {
   "cell_type": "code",
   "execution_count": 80,
   "id": "b64f08d8-dfc5-42a5-9d7f-ed4c121b664d",
   "metadata": {},
   "outputs": [],
   "source": [
    "import numpy as np\n",
    "import pandas as pd\n",
    "import seaborn as sns \n",
    "import pickle\n",
    "from sklearn import datasets # sklearn comes with some toy datasets to practice\n",
    "from sklearn.preprocessing import StandardScaler\n",
    "from sklearn.cluster import KMeans\n",
    "import matplotlib.pyplot as plt\n",
    "from sklearn.metrics import silhouette_score"
   ]
  },
  {
   "cell_type": "code",
   "execution_count": 81,
   "id": "558bbd83-f779-4558-a99f-b16ebcbc1fbc",
   "metadata": {},
   "outputs": [],
   "source": [
    "#Importing dataset to train model \n",
    "\n",
    "csv_file_path = 'C:/Users/ETTORE/Documents/Iron Hack/week 6/newdf_data.csv'\n",
    "\n",
    "df1 = pd.read_csv(csv_file_path)"
   ]
  },
  {
   "cell_type": "code",
   "execution_count": 82,
   "id": "1ec25f84-8a86-43b6-8205-f8291445d4cb",
   "metadata": {},
   "outputs": [
    {
     "data": {
      "text/html": [
       "<div>\n",
       "<style scoped>\n",
       "    .dataframe tbody tr th:only-of-type {\n",
       "        vertical-align: middle;\n",
       "    }\n",
       "\n",
       "    .dataframe tbody tr th {\n",
       "        vertical-align: top;\n",
       "    }\n",
       "\n",
       "    .dataframe thead th {\n",
       "        text-align: right;\n",
       "    }\n",
       "</style>\n",
       "<table border=\"1\" class=\"dataframe\">\n",
       "  <thead>\n",
       "    <tr style=\"text-align: right;\">\n",
       "      <th></th>\n",
       "      <th>danceability</th>\n",
       "      <th>energy</th>\n",
       "      <th>key</th>\n",
       "      <th>loudness</th>\n",
       "      <th>mode</th>\n",
       "      <th>speechiness</th>\n",
       "      <th>acousticness</th>\n",
       "      <th>instrumentalness</th>\n",
       "      <th>liveness</th>\n",
       "      <th>valence</th>\n",
       "      <th>tempo</th>\n",
       "      <th>type</th>\n",
       "      <th>id</th>\n",
       "      <th>uri</th>\n",
       "      <th>track_href</th>\n",
       "      <th>analysis_url</th>\n",
       "      <th>duration_ms</th>\n",
       "      <th>time_signature</th>\n",
       "    </tr>\n",
       "  </thead>\n",
       "  <tbody>\n",
       "    <tr>\n",
       "      <th>0</th>\n",
       "      <td>0.511</td>\n",
       "      <td>0.970</td>\n",
       "      <td>10</td>\n",
       "      <td>-3.720</td>\n",
       "      <td>1</td>\n",
       "      <td>0.0414</td>\n",
       "      <td>0.000006</td>\n",
       "      <td>0.001360</td>\n",
       "      <td>0.1800</td>\n",
       "      <td>0.566</td>\n",
       "      <td>132.986</td>\n",
       "      <td>audio_features</td>\n",
       "      <td>2R6UrJ8uWbSIiHWmvRQvN8</td>\n",
       "      <td>spotify:track:2R6UrJ8uWbSIiHWmvRQvN8</td>\n",
       "      <td>https://api.spotify.com/v1/tracks/2R6UrJ8uWbSI...</td>\n",
       "      <td>https://api.spotify.com/v1/audio-analysis/2R6U...</td>\n",
       "      <td>304693</td>\n",
       "      <td>4</td>\n",
       "    </tr>\n",
       "    <tr>\n",
       "      <th>1</th>\n",
       "      <td>0.577</td>\n",
       "      <td>0.828</td>\n",
       "      <td>6</td>\n",
       "      <td>-8.691</td>\n",
       "      <td>0</td>\n",
       "      <td>0.0298</td>\n",
       "      <td>0.002130</td>\n",
       "      <td>0.011400</td>\n",
       "      <td>0.0581</td>\n",
       "      <td>0.604</td>\n",
       "      <td>123.257</td>\n",
       "      <td>audio_features</td>\n",
       "      <td>5sICkBXVmaCQk5aISGR3x1</td>\n",
       "      <td>spotify:track:5sICkBXVmaCQk5aISGR3x1</td>\n",
       "      <td>https://api.spotify.com/v1/tracks/5sICkBXVmaCQ...</td>\n",
       "      <td>https://api.spotify.com/v1/audio-analysis/5sIC...</td>\n",
       "      <td>331267</td>\n",
       "      <td>4</td>\n",
       "    </tr>\n",
       "    <tr>\n",
       "      <th>2</th>\n",
       "      <td>0.543</td>\n",
       "      <td>0.836</td>\n",
       "      <td>4</td>\n",
       "      <td>-9.110</td>\n",
       "      <td>0</td>\n",
       "      <td>0.0353</td>\n",
       "      <td>0.000647</td>\n",
       "      <td>0.431000</td>\n",
       "      <td>0.1530</td>\n",
       "      <td>0.560</td>\n",
       "      <td>105.173</td>\n",
       "      <td>audio_features</td>\n",
       "      <td>2MuWTIM3b0YEAskbeeFE1i</td>\n",
       "      <td>spotify:track:2MuWTIM3b0YEAskbeeFE1i</td>\n",
       "      <td>https://api.spotify.com/v1/tracks/2MuWTIM3b0YE...</td>\n",
       "      <td>https://api.spotify.com/v1/audio-analysis/2MuW...</td>\n",
       "      <td>515387</td>\n",
       "      <td>4</td>\n",
       "    </tr>\n",
       "    <tr>\n",
       "      <th>3</th>\n",
       "      <td>0.553</td>\n",
       "      <td>0.362</td>\n",
       "      <td>4</td>\n",
       "      <td>-11.218</td>\n",
       "      <td>0</td>\n",
       "      <td>0.0263</td>\n",
       "      <td>0.045800</td>\n",
       "      <td>0.000006</td>\n",
       "      <td>0.0750</td>\n",
       "      <td>0.158</td>\n",
       "      <td>142.352</td>\n",
       "      <td>audio_features</td>\n",
       "      <td>0nLiqZ6A27jJri2VCalIUs</td>\n",
       "      <td>spotify:track:0nLiqZ6A27jJri2VCalIUs</td>\n",
       "      <td>https://api.spotify.com/v1/tracks/0nLiqZ6A27jJ...</td>\n",
       "      <td>https://api.spotify.com/v1/audio-analysis/0nLi...</td>\n",
       "      <td>388267</td>\n",
       "      <td>3</td>\n",
       "    </tr>\n",
       "    <tr>\n",
       "      <th>4</th>\n",
       "      <td>0.540</td>\n",
       "      <td>0.584</td>\n",
       "      <td>7</td>\n",
       "      <td>-9.579</td>\n",
       "      <td>1</td>\n",
       "      <td>0.0254</td>\n",
       "      <td>0.010800</td>\n",
       "      <td>0.002960</td>\n",
       "      <td>0.2530</td>\n",
       "      <td>0.244</td>\n",
       "      <td>139.261</td>\n",
       "      <td>audio_features</td>\n",
       "      <td>4aYLAF6ckQ5ooGGGM7sWAa</td>\n",
       "      <td>spotify:track:4aYLAF6ckQ5ooGGGM7sWAa</td>\n",
       "      <td>https://api.spotify.com/v1/tracks/4aYLAF6ckQ5o...</td>\n",
       "      <td>https://api.spotify.com/v1/audio-analysis/4aYL...</td>\n",
       "      <td>386493</td>\n",
       "      <td>4</td>\n",
       "    </tr>\n",
       "  </tbody>\n",
       "</table>\n",
       "</div>"
      ],
      "text/plain": [
       "   danceability  energy  key  loudness  mode  speechiness  acousticness  \\\n",
       "0         0.511   0.970   10    -3.720     1       0.0414      0.000006   \n",
       "1         0.577   0.828    6    -8.691     0       0.0298      0.002130   \n",
       "2         0.543   0.836    4    -9.110     0       0.0353      0.000647   \n",
       "3         0.553   0.362    4   -11.218     0       0.0263      0.045800   \n",
       "4         0.540   0.584    7    -9.579     1       0.0254      0.010800   \n",
       "\n",
       "   instrumentalness  liveness  valence    tempo            type  \\\n",
       "0          0.001360    0.1800    0.566  132.986  audio_features   \n",
       "1          0.011400    0.0581    0.604  123.257  audio_features   \n",
       "2          0.431000    0.1530    0.560  105.173  audio_features   \n",
       "3          0.000006    0.0750    0.158  142.352  audio_features   \n",
       "4          0.002960    0.2530    0.244  139.261  audio_features   \n",
       "\n",
       "                       id                                   uri  \\\n",
       "0  2R6UrJ8uWbSIiHWmvRQvN8  spotify:track:2R6UrJ8uWbSIiHWmvRQvN8   \n",
       "1  5sICkBXVmaCQk5aISGR3x1  spotify:track:5sICkBXVmaCQk5aISGR3x1   \n",
       "2  2MuWTIM3b0YEAskbeeFE1i  spotify:track:2MuWTIM3b0YEAskbeeFE1i   \n",
       "3  0nLiqZ6A27jJri2VCalIUs  spotify:track:0nLiqZ6A27jJri2VCalIUs   \n",
       "4  4aYLAF6ckQ5ooGGGM7sWAa  spotify:track:4aYLAF6ckQ5ooGGGM7sWAa   \n",
       "\n",
       "                                          track_href  \\\n",
       "0  https://api.spotify.com/v1/tracks/2R6UrJ8uWbSI...   \n",
       "1  https://api.spotify.com/v1/tracks/5sICkBXVmaCQ...   \n",
       "2  https://api.spotify.com/v1/tracks/2MuWTIM3b0YE...   \n",
       "3  https://api.spotify.com/v1/tracks/0nLiqZ6A27jJ...   \n",
       "4  https://api.spotify.com/v1/tracks/4aYLAF6ckQ5o...   \n",
       "\n",
       "                                        analysis_url  duration_ms  \\\n",
       "0  https://api.spotify.com/v1/audio-analysis/2R6U...       304693   \n",
       "1  https://api.spotify.com/v1/audio-analysis/5sIC...       331267   \n",
       "2  https://api.spotify.com/v1/audio-analysis/2MuW...       515387   \n",
       "3  https://api.spotify.com/v1/audio-analysis/0nLi...       388267   \n",
       "4  https://api.spotify.com/v1/audio-analysis/4aYL...       386493   \n",
       "\n",
       "   time_signature  \n",
       "0               4  \n",
       "1               4  \n",
       "2               4  \n",
       "3               3  \n",
       "4               4  "
      ]
     },
     "execution_count": 82,
     "metadata": {},
     "output_type": "execute_result"
    }
   ],
   "source": [
    "df1.head()"
   ]
  },
  {
   "cell_type": "code",
   "execution_count": 83,
   "id": "d12b5d1e-e9d0-4e97-8dc4-677a715dd7d4",
   "metadata": {},
   "outputs": [],
   "source": [
    "df = df1.drop(columns = [\"type\", \"id\", \"uri\", \"track_href\", \"analysis_url\", \"duration_ms\"])"
   ]
  },
  {
   "cell_type": "code",
   "execution_count": 84,
   "id": "13f8fb8c-060c-4157-a518-a10d9eb5b9a9",
   "metadata": {},
   "outputs": [
    {
     "data": {
      "text/html": [
       "<div>\n",
       "<style scoped>\n",
       "    .dataframe tbody tr th:only-of-type {\n",
       "        vertical-align: middle;\n",
       "    }\n",
       "\n",
       "    .dataframe tbody tr th {\n",
       "        vertical-align: top;\n",
       "    }\n",
       "\n",
       "    .dataframe thead th {\n",
       "        text-align: right;\n",
       "    }\n",
       "</style>\n",
       "<table border=\"1\" class=\"dataframe\">\n",
       "  <thead>\n",
       "    <tr style=\"text-align: right;\">\n",
       "      <th></th>\n",
       "      <th>danceability</th>\n",
       "      <th>energy</th>\n",
       "      <th>key</th>\n",
       "      <th>loudness</th>\n",
       "      <th>mode</th>\n",
       "      <th>speechiness</th>\n",
       "      <th>acousticness</th>\n",
       "      <th>instrumentalness</th>\n",
       "      <th>liveness</th>\n",
       "      <th>valence</th>\n",
       "      <th>tempo</th>\n",
       "      <th>time_signature</th>\n",
       "    </tr>\n",
       "  </thead>\n",
       "  <tbody>\n",
       "    <tr>\n",
       "      <th>0</th>\n",
       "      <td>0.511</td>\n",
       "      <td>0.970</td>\n",
       "      <td>10</td>\n",
       "      <td>-3.720</td>\n",
       "      <td>1</td>\n",
       "      <td>0.0414</td>\n",
       "      <td>0.000006</td>\n",
       "      <td>0.001360</td>\n",
       "      <td>0.1800</td>\n",
       "      <td>0.566</td>\n",
       "      <td>132.986</td>\n",
       "      <td>4</td>\n",
       "    </tr>\n",
       "    <tr>\n",
       "      <th>1</th>\n",
       "      <td>0.577</td>\n",
       "      <td>0.828</td>\n",
       "      <td>6</td>\n",
       "      <td>-8.691</td>\n",
       "      <td>0</td>\n",
       "      <td>0.0298</td>\n",
       "      <td>0.002130</td>\n",
       "      <td>0.011400</td>\n",
       "      <td>0.0581</td>\n",
       "      <td>0.604</td>\n",
       "      <td>123.257</td>\n",
       "      <td>4</td>\n",
       "    </tr>\n",
       "    <tr>\n",
       "      <th>2</th>\n",
       "      <td>0.543</td>\n",
       "      <td>0.836</td>\n",
       "      <td>4</td>\n",
       "      <td>-9.110</td>\n",
       "      <td>0</td>\n",
       "      <td>0.0353</td>\n",
       "      <td>0.000647</td>\n",
       "      <td>0.431000</td>\n",
       "      <td>0.1530</td>\n",
       "      <td>0.560</td>\n",
       "      <td>105.173</td>\n",
       "      <td>4</td>\n",
       "    </tr>\n",
       "    <tr>\n",
       "      <th>3</th>\n",
       "      <td>0.553</td>\n",
       "      <td>0.362</td>\n",
       "      <td>4</td>\n",
       "      <td>-11.218</td>\n",
       "      <td>0</td>\n",
       "      <td>0.0263</td>\n",
       "      <td>0.045800</td>\n",
       "      <td>0.000006</td>\n",
       "      <td>0.0750</td>\n",
       "      <td>0.158</td>\n",
       "      <td>142.352</td>\n",
       "      <td>3</td>\n",
       "    </tr>\n",
       "    <tr>\n",
       "      <th>4</th>\n",
       "      <td>0.540</td>\n",
       "      <td>0.584</td>\n",
       "      <td>7</td>\n",
       "      <td>-9.579</td>\n",
       "      <td>1</td>\n",
       "      <td>0.0254</td>\n",
       "      <td>0.010800</td>\n",
       "      <td>0.002960</td>\n",
       "      <td>0.2530</td>\n",
       "      <td>0.244</td>\n",
       "      <td>139.261</td>\n",
       "      <td>4</td>\n",
       "    </tr>\n",
       "    <tr>\n",
       "      <th>...</th>\n",
       "      <td>...</td>\n",
       "      <td>...</td>\n",
       "      <td>...</td>\n",
       "      <td>...</td>\n",
       "      <td>...</td>\n",
       "      <td>...</td>\n",
       "      <td>...</td>\n",
       "      <td>...</td>\n",
       "      <td>...</td>\n",
       "      <td>...</td>\n",
       "      <td>...</td>\n",
       "      <td>...</td>\n",
       "    </tr>\n",
       "    <tr>\n",
       "      <th>1558</th>\n",
       "      <td>0.655</td>\n",
       "      <td>0.876</td>\n",
       "      <td>11</td>\n",
       "      <td>-5.929</td>\n",
       "      <td>0</td>\n",
       "      <td>0.0325</td>\n",
       "      <td>0.000170</td>\n",
       "      <td>0.014100</td>\n",
       "      <td>0.0476</td>\n",
       "      <td>0.673</td>\n",
       "      <td>122.862</td>\n",
       "      <td>4</td>\n",
       "    </tr>\n",
       "    <tr>\n",
       "      <th>1559</th>\n",
       "      <td>0.775</td>\n",
       "      <td>0.606</td>\n",
       "      <td>0</td>\n",
       "      <td>-9.860</td>\n",
       "      <td>1</td>\n",
       "      <td>0.1200</td>\n",
       "      <td>0.042000</td>\n",
       "      <td>0.000000</td>\n",
       "      <td>0.5230</td>\n",
       "      <td>0.788</td>\n",
       "      <td>103.648</td>\n",
       "      <td>4</td>\n",
       "    </tr>\n",
       "    <tr>\n",
       "      <th>1560</th>\n",
       "      <td>0.621</td>\n",
       "      <td>0.729</td>\n",
       "      <td>2</td>\n",
       "      <td>-11.710</td>\n",
       "      <td>0</td>\n",
       "      <td>0.0306</td>\n",
       "      <td>0.005080</td>\n",
       "      <td>0.000834</td>\n",
       "      <td>0.3350</td>\n",
       "      <td>0.467</td>\n",
       "      <td>134.966</td>\n",
       "      <td>4</td>\n",
       "    </tr>\n",
       "    <tr>\n",
       "      <th>1561</th>\n",
       "      <td>0.815</td>\n",
       "      <td>0.587</td>\n",
       "      <td>6</td>\n",
       "      <td>-10.161</td>\n",
       "      <td>0</td>\n",
       "      <td>0.2370</td>\n",
       "      <td>0.001790</td>\n",
       "      <td>0.019300</td>\n",
       "      <td>0.6450</td>\n",
       "      <td>0.754</td>\n",
       "      <td>111.762</td>\n",
       "      <td>4</td>\n",
       "    </tr>\n",
       "    <tr>\n",
       "      <th>1562</th>\n",
       "      <td>0.745</td>\n",
       "      <td>0.771</td>\n",
       "      <td>4</td>\n",
       "      <td>-8.231</td>\n",
       "      <td>0</td>\n",
       "      <td>0.0755</td>\n",
       "      <td>0.001040</td>\n",
       "      <td>0.387000</td>\n",
       "      <td>0.0574</td>\n",
       "      <td>0.752</td>\n",
       "      <td>95.623</td>\n",
       "      <td>4</td>\n",
       "    </tr>\n",
       "  </tbody>\n",
       "</table>\n",
       "<p>1563 rows × 12 columns</p>\n",
       "</div>"
      ],
      "text/plain": [
       "      danceability  energy  key  loudness  mode  speechiness  acousticness  \\\n",
       "0            0.511   0.970   10    -3.720     1       0.0414      0.000006   \n",
       "1            0.577   0.828    6    -8.691     0       0.0298      0.002130   \n",
       "2            0.543   0.836    4    -9.110     0       0.0353      0.000647   \n",
       "3            0.553   0.362    4   -11.218     0       0.0263      0.045800   \n",
       "4            0.540   0.584    7    -9.579     1       0.0254      0.010800   \n",
       "...            ...     ...  ...       ...   ...          ...           ...   \n",
       "1558         0.655   0.876   11    -5.929     0       0.0325      0.000170   \n",
       "1559         0.775   0.606    0    -9.860     1       0.1200      0.042000   \n",
       "1560         0.621   0.729    2   -11.710     0       0.0306      0.005080   \n",
       "1561         0.815   0.587    6   -10.161     0       0.2370      0.001790   \n",
       "1562         0.745   0.771    4    -8.231     0       0.0755      0.001040   \n",
       "\n",
       "      instrumentalness  liveness  valence    tempo  time_signature  \n",
       "0             0.001360    0.1800    0.566  132.986               4  \n",
       "1             0.011400    0.0581    0.604  123.257               4  \n",
       "2             0.431000    0.1530    0.560  105.173               4  \n",
       "3             0.000006    0.0750    0.158  142.352               3  \n",
       "4             0.002960    0.2530    0.244  139.261               4  \n",
       "...                ...       ...      ...      ...             ...  \n",
       "1558          0.014100    0.0476    0.673  122.862               4  \n",
       "1559          0.000000    0.5230    0.788  103.648               4  \n",
       "1560          0.000834    0.3350    0.467  134.966               4  \n",
       "1561          0.019300    0.6450    0.754  111.762               4  \n",
       "1562          0.387000    0.0574    0.752   95.623               4  \n",
       "\n",
       "[1563 rows x 12 columns]"
      ]
     },
     "execution_count": 84,
     "metadata": {},
     "output_type": "execute_result"
    }
   ],
   "source": [
    "df"
   ]
  },
  {
   "cell_type": "code",
   "execution_count": 85,
   "id": "c7ad597f-3de3-4c7b-90d1-6c27619820b4",
   "metadata": {},
   "outputs": [
    {
     "name": "stdout",
     "output_type": "stream",
     "text": [
      "\n"
     ]
    },
    {
     "data": {
      "text/html": [
       "<div>\n",
       "<style scoped>\n",
       "    .dataframe tbody tr th:only-of-type {\n",
       "        vertical-align: middle;\n",
       "    }\n",
       "\n",
       "    .dataframe tbody tr th {\n",
       "        vertical-align: top;\n",
       "    }\n",
       "\n",
       "    .dataframe thead th {\n",
       "        text-align: right;\n",
       "    }\n",
       "</style>\n",
       "<table border=\"1\" class=\"dataframe\">\n",
       "  <thead>\n",
       "    <tr style=\"text-align: right;\">\n",
       "      <th></th>\n",
       "      <th>danceability</th>\n",
       "      <th>energy</th>\n",
       "      <th>key</th>\n",
       "      <th>loudness</th>\n",
       "      <th>mode</th>\n",
       "      <th>speechiness</th>\n",
       "      <th>acousticness</th>\n",
       "      <th>instrumentalness</th>\n",
       "      <th>liveness</th>\n",
       "      <th>valence</th>\n",
       "      <th>tempo</th>\n",
       "      <th>time_signature</th>\n",
       "    </tr>\n",
       "  </thead>\n",
       "  <tbody>\n",
       "    <tr>\n",
       "      <th>0</th>\n",
       "      <td>-0.760228</td>\n",
       "      <td>1.291194</td>\n",
       "      <td>1.357017</td>\n",
       "      <td>0.666891</td>\n",
       "      <td>0.872995</td>\n",
       "      <td>-0.632714</td>\n",
       "      <td>-0.759651</td>\n",
       "      <td>-0.472193</td>\n",
       "      <td>-0.056082</td>\n",
       "      <td>0.139518</td>\n",
       "      <td>0.482358</td>\n",
       "      <td>0.132383</td>\n",
       "    </tr>\n",
       "    <tr>\n",
       "      <th>1</th>\n",
       "      <td>-0.392886</td>\n",
       "      <td>0.705595</td>\n",
       "      <td>0.257332</td>\n",
       "      <td>-0.020859</td>\n",
       "      <td>-1.145483</td>\n",
       "      <td>-0.745202</td>\n",
       "      <td>-0.752295</td>\n",
       "      <td>-0.438723</td>\n",
       "      <td>-0.862046</td>\n",
       "      <td>0.292271</td>\n",
       "      <td>0.139293</td>\n",
       "      <td>0.132383</td>\n",
       "    </tr>\n",
       "    <tr>\n",
       "      <th>2</th>\n",
       "      <td>-0.582123</td>\n",
       "      <td>0.738586</td>\n",
       "      <td>-0.292511</td>\n",
       "      <td>-0.078828</td>\n",
       "      <td>-1.145483</td>\n",
       "      <td>-0.691867</td>\n",
       "      <td>-0.757430</td>\n",
       "      <td>0.960074</td>\n",
       "      <td>-0.234597</td>\n",
       "      <td>0.115399</td>\n",
       "      <td>-0.498387</td>\n",
       "      <td>0.132383</td>\n",
       "    </tr>\n",
       "    <tr>\n",
       "      <th>3</th>\n",
       "      <td>-0.526465</td>\n",
       "      <td>-1.216160</td>\n",
       "      <td>-0.292511</td>\n",
       "      <td>-0.370475</td>\n",
       "      <td>-1.145483</td>\n",
       "      <td>-0.779143</td>\n",
       "      <td>-0.601082</td>\n",
       "      <td>-0.476706</td>\n",
       "      <td>-0.750308</td>\n",
       "      <td>-1.500565</td>\n",
       "      <td>0.812623</td>\n",
       "      <td>-2.520376</td>\n",
       "    </tr>\n",
       "    <tr>\n",
       "      <th>4</th>\n",
       "      <td>-0.598820</td>\n",
       "      <td>-0.300646</td>\n",
       "      <td>0.532253</td>\n",
       "      <td>-0.143716</td>\n",
       "      <td>0.872995</td>\n",
       "      <td>-0.787870</td>\n",
       "      <td>-0.722274</td>\n",
       "      <td>-0.466859</td>\n",
       "      <td>0.426570</td>\n",
       "      <td>-1.154861</td>\n",
       "      <td>0.703627</td>\n",
       "      <td>0.132383</td>\n",
       "    </tr>\n",
       "  </tbody>\n",
       "</table>\n",
       "</div>"
      ],
      "text/plain": [
       "   danceability    energy       key  loudness      mode  speechiness  \\\n",
       "0     -0.760228  1.291194  1.357017  0.666891  0.872995    -0.632714   \n",
       "1     -0.392886  0.705595  0.257332 -0.020859 -1.145483    -0.745202   \n",
       "2     -0.582123  0.738586 -0.292511 -0.078828 -1.145483    -0.691867   \n",
       "3     -0.526465 -1.216160 -0.292511 -0.370475 -1.145483    -0.779143   \n",
       "4     -0.598820 -0.300646  0.532253 -0.143716  0.872995    -0.787870   \n",
       "\n",
       "   acousticness  instrumentalness  liveness   valence     tempo  \\\n",
       "0     -0.759651         -0.472193 -0.056082  0.139518  0.482358   \n",
       "1     -0.752295         -0.438723 -0.862046  0.292271  0.139293   \n",
       "2     -0.757430          0.960074 -0.234597  0.115399 -0.498387   \n",
       "3     -0.601082         -0.476706 -0.750308 -1.500565  0.812623   \n",
       "4     -0.722274         -0.466859  0.426570 -1.154861  0.703627   \n",
       "\n",
       "   time_signature  \n",
       "0        0.132383  \n",
       "1        0.132383  \n",
       "2        0.132383  \n",
       "3       -2.520376  \n",
       "4        0.132383  "
      ]
     },
     "metadata": {},
     "output_type": "display_data"
    }
   ],
   "source": [
    "scaler = StandardScaler()\n",
    "scaler.fit(df)\n",
    "df_scaled = scaler.transform(df)\n",
    "df_scaled_df = pd.DataFrame(df_scaled, columns = df.columns)\n",
    "#display(df.head())\n",
    "print()\n",
    "display(df_scaled_df.head())"
   ]
  },
  {
   "cell_type": "code",
   "execution_count": 86,
   "id": "ee9c3c44-80a0-422e-9f4e-86a563ac246f",
   "metadata": {},
   "outputs": [
    {
     "data": {
      "text/html": [
       "<div>\n",
       "<style scoped>\n",
       "    .dataframe tbody tr th:only-of-type {\n",
       "        vertical-align: middle;\n",
       "    }\n",
       "\n",
       "    .dataframe tbody tr th {\n",
       "        vertical-align: top;\n",
       "    }\n",
       "\n",
       "    .dataframe thead th {\n",
       "        text-align: right;\n",
       "    }\n",
       "</style>\n",
       "<table border=\"1\" class=\"dataframe\">\n",
       "  <thead>\n",
       "    <tr style=\"text-align: right;\">\n",
       "      <th></th>\n",
       "      <th>danceability</th>\n",
       "      <th>energy</th>\n",
       "      <th>key</th>\n",
       "      <th>loudness</th>\n",
       "      <th>mode</th>\n",
       "      <th>speechiness</th>\n",
       "      <th>acousticness</th>\n",
       "      <th>instrumentalness</th>\n",
       "      <th>liveness</th>\n",
       "      <th>valence</th>\n",
       "      <th>tempo</th>\n",
       "      <th>time_signature</th>\n",
       "    </tr>\n",
       "  </thead>\n",
       "  <tbody>\n",
       "    <tr>\n",
       "      <th>count</th>\n",
       "      <td>1.563000e+03</td>\n",
       "      <td>1563.000000</td>\n",
       "      <td>1.563000e+03</td>\n",
       "      <td>1.563000e+03</td>\n",
       "      <td>1.563000e+03</td>\n",
       "      <td>1.563000e+03</td>\n",
       "      <td>1.563000e+03</td>\n",
       "      <td>1.563000e+03</td>\n",
       "      <td>1.563000e+03</td>\n",
       "      <td>1.563000e+03</td>\n",
       "      <td>1.563000e+03</td>\n",
       "      <td>1.563000e+03</td>\n",
       "    </tr>\n",
       "    <tr>\n",
       "      <th>mean</th>\n",
       "      <td>-1.818408e-17</td>\n",
       "      <td>0.000000</td>\n",
       "      <td>1.250155e-17</td>\n",
       "      <td>1.454726e-16</td>\n",
       "      <td>3.636815e-17</td>\n",
       "      <td>-3.636815e-17</td>\n",
       "      <td>-7.273630e-17</td>\n",
       "      <td>-7.273630e-17</td>\n",
       "      <td>4.546019e-17</td>\n",
       "      <td>-9.092038e-18</td>\n",
       "      <td>2.227549e-16</td>\n",
       "      <td>1.636567e-16</td>\n",
       "    </tr>\n",
       "    <tr>\n",
       "      <th>std</th>\n",
       "      <td>1.000320e+00</td>\n",
       "      <td>1.000320</td>\n",
       "      <td>1.000320e+00</td>\n",
       "      <td>1.000320e+00</td>\n",
       "      <td>1.000320e+00</td>\n",
       "      <td>1.000320e+00</td>\n",
       "      <td>1.000320e+00</td>\n",
       "      <td>1.000320e+00</td>\n",
       "      <td>1.000320e+00</td>\n",
       "      <td>1.000320e+00</td>\n",
       "      <td>1.000320e+00</td>\n",
       "      <td>1.000320e+00</td>\n",
       "    </tr>\n",
       "    <tr>\n",
       "      <th>min</th>\n",
       "      <td>-3.604342e+00</td>\n",
       "      <td>-2.704489</td>\n",
       "      <td>-1.392196e+00</td>\n",
       "      <td>-5.011227e+00</td>\n",
       "      <td>-1.145483e+00</td>\n",
       "      <td>-1.034181e+00</td>\n",
       "      <td>-7.596545e-01</td>\n",
       "      <td>-4.767265e-01</td>\n",
       "      <td>-1.100066e+00</td>\n",
       "      <td>-2.135695e+00</td>\n",
       "      <td>-4.207007e+00</td>\n",
       "      <td>-1.047865e+01</td>\n",
       "    </tr>\n",
       "    <tr>\n",
       "      <th>25%</th>\n",
       "      <td>-5.542942e-01</td>\n",
       "      <td>-0.449108</td>\n",
       "      <td>-8.423533e-01</td>\n",
       "      <td>-2.957491e-02</td>\n",
       "      <td>-1.145483e+00</td>\n",
       "      <td>-6.356231e-01</td>\n",
       "      <td>-6.926687e-01</td>\n",
       "      <td>-4.767265e-01</td>\n",
       "      <td>-6.375792e-01</td>\n",
       "      <td>-7.307713e-01</td>\n",
       "      <td>-7.476369e-01</td>\n",
       "      <td>1.323834e-01</td>\n",
       "    </tr>\n",
       "    <tr>\n",
       "      <th>50%</th>\n",
       "      <td>1.692574e-01</td>\n",
       "      <td>0.185979</td>\n",
       "      <td>-1.758934e-02</td>\n",
       "      <td>2.889121e-01</td>\n",
       "      <td>8.729946e-01</td>\n",
       "      <td>-4.436171e-01</td>\n",
       "      <td>-4.532275e-01</td>\n",
       "      <td>-4.766535e-01</td>\n",
       "      <td>-4.065010e-01</td>\n",
       "      <td>3.902251e-02</td>\n",
       "      <td>2.409163e-02</td>\n",
       "      <td>1.323834e-01</td>\n",
       "    </tr>\n",
       "    <tr>\n",
       "      <th>75%</th>\n",
       "      <td>6.924409e-01</td>\n",
       "      <td>0.726214</td>\n",
       "      <td>8.071746e-01</td>\n",
       "      <td>5.027356e-01</td>\n",
       "      <td>8.729946e-01</td>\n",
       "      <td>2.167672e-01</td>\n",
       "      <td>2.843136e-01</td>\n",
       "      <td>-3.902185e-01</td>\n",
       "      <td>4.166529e-01</td>\n",
       "      <td>7.947470e-01</td>\n",
       "      <td>6.919204e-01</td>\n",
       "      <td>1.323834e-01</td>\n",
       "    </tr>\n",
       "    <tr>\n",
       "      <th>max</th>\n",
       "      <td>1.800031e+00</td>\n",
       "      <td>1.402540</td>\n",
       "      <td>1.631939e+00</td>\n",
       "      <td>1.291136e+00</td>\n",
       "      <td>8.729946e-01</td>\n",
       "      <td>7.800035e+00</td>\n",
       "      <td>2.689113e+00</td>\n",
       "      <td>2.796911e+00</td>\n",
       "      <td>5.213426e+00</td>\n",
       "      <td>1.783620e+00</td>\n",
       "      <td>2.930323e+00</td>\n",
       "      <td>2.785143e+00</td>\n",
       "    </tr>\n",
       "  </tbody>\n",
       "</table>\n",
       "</div>"
      ],
      "text/plain": [
       "       danceability       energy           key      loudness          mode  \\\n",
       "count  1.563000e+03  1563.000000  1.563000e+03  1.563000e+03  1.563000e+03   \n",
       "mean  -1.818408e-17     0.000000  1.250155e-17  1.454726e-16  3.636815e-17   \n",
       "std    1.000320e+00     1.000320  1.000320e+00  1.000320e+00  1.000320e+00   \n",
       "min   -3.604342e+00    -2.704489 -1.392196e+00 -5.011227e+00 -1.145483e+00   \n",
       "25%   -5.542942e-01    -0.449108 -8.423533e-01 -2.957491e-02 -1.145483e+00   \n",
       "50%    1.692574e-01     0.185979 -1.758934e-02  2.889121e-01  8.729946e-01   \n",
       "75%    6.924409e-01     0.726214  8.071746e-01  5.027356e-01  8.729946e-01   \n",
       "max    1.800031e+00     1.402540  1.631939e+00  1.291136e+00  8.729946e-01   \n",
       "\n",
       "        speechiness  acousticness  instrumentalness      liveness  \\\n",
       "count  1.563000e+03  1.563000e+03      1.563000e+03  1.563000e+03   \n",
       "mean  -3.636815e-17 -7.273630e-17     -7.273630e-17  4.546019e-17   \n",
       "std    1.000320e+00  1.000320e+00      1.000320e+00  1.000320e+00   \n",
       "min   -1.034181e+00 -7.596545e-01     -4.767265e-01 -1.100066e+00   \n",
       "25%   -6.356231e-01 -6.926687e-01     -4.767265e-01 -6.375792e-01   \n",
       "50%   -4.436171e-01 -4.532275e-01     -4.766535e-01 -4.065010e-01   \n",
       "75%    2.167672e-01  2.843136e-01     -3.902185e-01  4.166529e-01   \n",
       "max    7.800035e+00  2.689113e+00      2.796911e+00  5.213426e+00   \n",
       "\n",
       "            valence         tempo  time_signature  \n",
       "count  1.563000e+03  1.563000e+03    1.563000e+03  \n",
       "mean  -9.092038e-18  2.227549e-16    1.636567e-16  \n",
       "std    1.000320e+00  1.000320e+00    1.000320e+00  \n",
       "min   -2.135695e+00 -4.207007e+00   -1.047865e+01  \n",
       "25%   -7.307713e-01 -7.476369e-01    1.323834e-01  \n",
       "50%    3.902251e-02  2.409163e-02    1.323834e-01  \n",
       "75%    7.947470e-01  6.919204e-01    1.323834e-01  \n",
       "max    1.783620e+00  2.930323e+00    2.785143e+00  "
      ]
     },
     "execution_count": 86,
     "metadata": {},
     "output_type": "execute_result"
    }
   ],
   "source": [
    "df_scaled_df.describe()"
   ]
  },
  {
   "cell_type": "code",
   "execution_count": 87,
   "id": "250b39a2-4dba-44b1-a97d-63916b6c8809",
   "metadata": {},
   "outputs": [
    {
     "name": "stderr",
     "output_type": "stream",
     "text": [
      "C:\\Users\\ETTORE\\anaconda3\\lib\\site-packages\\sklearn\\cluster\\_kmeans.py:1412: FutureWarning: The default value of `n_init` will change from 10 to 'auto' in 1.4. Set the value of `n_init` explicitly to suppress the warning\n",
      "  super()._check_params_vs_input(X, default_n_init=10)\n"
     ]
    },
    {
     "data": {
      "text/html": [
       "<style>#sk-container-id-8 {color: black;}#sk-container-id-8 pre{padding: 0;}#sk-container-id-8 div.sk-toggleable {background-color: white;}#sk-container-id-8 label.sk-toggleable__label {cursor: pointer;display: block;width: 100%;margin-bottom: 0;padding: 0.3em;box-sizing: border-box;text-align: center;}#sk-container-id-8 label.sk-toggleable__label-arrow:before {content: \"▸\";float: left;margin-right: 0.25em;color: #696969;}#sk-container-id-8 label.sk-toggleable__label-arrow:hover:before {color: black;}#sk-container-id-8 div.sk-estimator:hover label.sk-toggleable__label-arrow:before {color: black;}#sk-container-id-8 div.sk-toggleable__content {max-height: 0;max-width: 0;overflow: hidden;text-align: left;background-color: #f0f8ff;}#sk-container-id-8 div.sk-toggleable__content pre {margin: 0.2em;color: black;border-radius: 0.25em;background-color: #f0f8ff;}#sk-container-id-8 input.sk-toggleable__control:checked~div.sk-toggleable__content {max-height: 200px;max-width: 100%;overflow: auto;}#sk-container-id-8 input.sk-toggleable__control:checked~label.sk-toggleable__label-arrow:before {content: \"▾\";}#sk-container-id-8 div.sk-estimator input.sk-toggleable__control:checked~label.sk-toggleable__label {background-color: #d4ebff;}#sk-container-id-8 div.sk-label input.sk-toggleable__control:checked~label.sk-toggleable__label {background-color: #d4ebff;}#sk-container-id-8 input.sk-hidden--visually {border: 0;clip: rect(1px 1px 1px 1px);clip: rect(1px, 1px, 1px, 1px);height: 1px;margin: -1px;overflow: hidden;padding: 0;position: absolute;width: 1px;}#sk-container-id-8 div.sk-estimator {font-family: monospace;background-color: #f0f8ff;border: 1px dotted black;border-radius: 0.25em;box-sizing: border-box;margin-bottom: 0.5em;}#sk-container-id-8 div.sk-estimator:hover {background-color: #d4ebff;}#sk-container-id-8 div.sk-parallel-item::after {content: \"\";width: 100%;border-bottom: 1px solid gray;flex-grow: 1;}#sk-container-id-8 div.sk-label:hover label.sk-toggleable__label {background-color: #d4ebff;}#sk-container-id-8 div.sk-serial::before {content: \"\";position: absolute;border-left: 1px solid gray;box-sizing: border-box;top: 0;bottom: 0;left: 50%;z-index: 0;}#sk-container-id-8 div.sk-serial {display: flex;flex-direction: column;align-items: center;background-color: white;padding-right: 0.2em;padding-left: 0.2em;position: relative;}#sk-container-id-8 div.sk-item {position: relative;z-index: 1;}#sk-container-id-8 div.sk-parallel {display: flex;align-items: stretch;justify-content: center;background-color: white;position: relative;}#sk-container-id-8 div.sk-item::before, #sk-container-id-8 div.sk-parallel-item::before {content: \"\";position: absolute;border-left: 1px solid gray;box-sizing: border-box;top: 0;bottom: 0;left: 50%;z-index: -1;}#sk-container-id-8 div.sk-parallel-item {display: flex;flex-direction: column;z-index: 1;position: relative;background-color: white;}#sk-container-id-8 div.sk-parallel-item:first-child::after {align-self: flex-end;width: 50%;}#sk-container-id-8 div.sk-parallel-item:last-child::after {align-self: flex-start;width: 50%;}#sk-container-id-8 div.sk-parallel-item:only-child::after {width: 0;}#sk-container-id-8 div.sk-dashed-wrapped {border: 1px dashed gray;margin: 0 0.4em 0.5em 0.4em;box-sizing: border-box;padding-bottom: 0.4em;background-color: white;}#sk-container-id-8 div.sk-label label {font-family: monospace;font-weight: bold;display: inline-block;line-height: 1.2em;}#sk-container-id-8 div.sk-label-container {text-align: center;}#sk-container-id-8 div.sk-container {/* jupyter's `normalize.less` sets `[hidden] { display: none; }` but bootstrap.min.css set `[hidden] { display: none !important; }` so we also need the `!important` here to be able to override the default hidden behavior on the sphinx rendered scikit-learn.org. See: https://github.com/scikit-learn/scikit-learn/issues/21755 */display: inline-block !important;position: relative;}#sk-container-id-8 div.sk-text-repr-fallback {display: none;}</style><div id=\"sk-container-id-8\" class=\"sk-top-container\"><div class=\"sk-text-repr-fallback\"><pre>KMeans(random_state=1234)</pre><b>In a Jupyter environment, please rerun this cell to show the HTML representation or trust the notebook. <br />On GitHub, the HTML representation is unable to render, please try loading this page with nbviewer.org.</b></div><div class=\"sk-container\" hidden><div class=\"sk-item\"><div class=\"sk-estimator sk-toggleable\"><input class=\"sk-toggleable__control sk-hidden--visually\" id=\"sk-estimator-id-8\" type=\"checkbox\" checked><label for=\"sk-estimator-id-8\" class=\"sk-toggleable__label sk-toggleable__label-arrow\">KMeans</label><div class=\"sk-toggleable__content\"><pre>KMeans(random_state=1234)</pre></div></div></div></div></div>"
      ],
      "text/plain": [
       "KMeans(random_state=1234)"
      ]
     },
     "execution_count": 87,
     "metadata": {},
     "output_type": "execute_result"
    }
   ],
   "source": [
    "kmeans = KMeans(n_clusters=8, random_state=1234)\n",
    "kmeans.fit(df_scaled_df)"
   ]
  },
  {
   "cell_type": "code",
   "execution_count": 88,
   "id": "6dbc7c02-a7a3-44bd-9f8c-0817ed3816a2",
   "metadata": {},
   "outputs": [
    {
     "data": {
      "text/plain": [
       "array([0, 2, 2, ..., 2, 3, 2])"
      ]
     },
     "execution_count": 88,
     "metadata": {},
     "output_type": "execute_result"
    }
   ],
   "source": [
    "labels = kmeans.labels_\n",
    "labels"
   ]
  },
  {
   "cell_type": "code",
   "execution_count": 89,
   "id": "9d1a229f-ec75-4e1f-b65b-fd87a8f3ed66",
   "metadata": {},
   "outputs": [
    {
     "data": {
      "text/plain": [
       "array([0, 1, 2, 3, 4, 5, 6, 7])"
      ]
     },
     "execution_count": 89,
     "metadata": {},
     "output_type": "execute_result"
    }
   ],
   "source": [
    "np.unique(labels)"
   ]
  },
  {
   "cell_type": "code",
   "execution_count": 90,
   "id": "fc591430-0918-4734-a609-cd7b77b3e694",
   "metadata": {},
   "outputs": [
    {
     "data": {
      "text/plain": [
       "0    266\n",
       "1     53\n",
       "2    474\n",
       "3     96\n",
       "4    176\n",
       "5    297\n",
       "6    123\n",
       "7     78\n",
       "Name: count, dtype: int64"
      ]
     },
     "execution_count": 90,
     "metadata": {},
     "output_type": "execute_result"
    }
   ],
   "source": [
    "clusters = kmeans.predict(df_scaled_df)\n",
    "#clusters\n",
    "pd.Series(clusters).value_counts().sort_index()"
   ]
  },
  {
   "cell_type": "code",
   "execution_count": 91,
   "id": "f1af8e35-0ba4-4016-8250-da36fe0c89a2",
   "metadata": {},
   "outputs": [
    {
     "data": {
      "text/plain": [
       "array([0, 2, 2, ..., 2, 3, 2])"
      ]
     },
     "execution_count": 91,
     "metadata": {},
     "output_type": "execute_result"
    }
   ],
   "source": [
    "clusters"
   ]
  },
  {
   "cell_type": "code",
   "execution_count": 92,
   "id": "22d24ff2-f386-4d9d-9bcc-182a338b65e7",
   "metadata": {},
   "outputs": [
    {
     "data": {
      "text/html": [
       "<div>\n",
       "<style scoped>\n",
       "    .dataframe tbody tr th:only-of-type {\n",
       "        vertical-align: middle;\n",
       "    }\n",
       "\n",
       "    .dataframe tbody tr th {\n",
       "        vertical-align: top;\n",
       "    }\n",
       "\n",
       "    .dataframe thead th {\n",
       "        text-align: right;\n",
       "    }\n",
       "</style>\n",
       "<table border=\"1\" class=\"dataframe\">\n",
       "  <thead>\n",
       "    <tr style=\"text-align: right;\">\n",
       "      <th></th>\n",
       "      <th>danceability</th>\n",
       "      <th>energy</th>\n",
       "      <th>key</th>\n",
       "      <th>loudness</th>\n",
       "      <th>mode</th>\n",
       "      <th>speechiness</th>\n",
       "      <th>acousticness</th>\n",
       "      <th>instrumentalness</th>\n",
       "      <th>liveness</th>\n",
       "      <th>valence</th>\n",
       "      <th>tempo</th>\n",
       "      <th>time_signature</th>\n",
       "      <th>cluster</th>\n",
       "    </tr>\n",
       "  </thead>\n",
       "  <tbody>\n",
       "    <tr>\n",
       "      <th>0</th>\n",
       "      <td>0.511</td>\n",
       "      <td>0.970</td>\n",
       "      <td>10</td>\n",
       "      <td>-3.720</td>\n",
       "      <td>1</td>\n",
       "      <td>0.0414</td>\n",
       "      <td>0.000006</td>\n",
       "      <td>0.001360</td>\n",
       "      <td>0.1800</td>\n",
       "      <td>0.566</td>\n",
       "      <td>132.986</td>\n",
       "      <td>4</td>\n",
       "      <td>0</td>\n",
       "    </tr>\n",
       "    <tr>\n",
       "      <th>1</th>\n",
       "      <td>0.577</td>\n",
       "      <td>0.828</td>\n",
       "      <td>6</td>\n",
       "      <td>-8.691</td>\n",
       "      <td>0</td>\n",
       "      <td>0.0298</td>\n",
       "      <td>0.002130</td>\n",
       "      <td>0.011400</td>\n",
       "      <td>0.0581</td>\n",
       "      <td>0.604</td>\n",
       "      <td>123.257</td>\n",
       "      <td>4</td>\n",
       "      <td>2</td>\n",
       "    </tr>\n",
       "    <tr>\n",
       "      <th>2</th>\n",
       "      <td>0.543</td>\n",
       "      <td>0.836</td>\n",
       "      <td>4</td>\n",
       "      <td>-9.110</td>\n",
       "      <td>0</td>\n",
       "      <td>0.0353</td>\n",
       "      <td>0.000647</td>\n",
       "      <td>0.431000</td>\n",
       "      <td>0.1530</td>\n",
       "      <td>0.560</td>\n",
       "      <td>105.173</td>\n",
       "      <td>4</td>\n",
       "      <td>2</td>\n",
       "    </tr>\n",
       "    <tr>\n",
       "      <th>3</th>\n",
       "      <td>0.553</td>\n",
       "      <td>0.362</td>\n",
       "      <td>4</td>\n",
       "      <td>-11.218</td>\n",
       "      <td>0</td>\n",
       "      <td>0.0263</td>\n",
       "      <td>0.045800</td>\n",
       "      <td>0.000006</td>\n",
       "      <td>0.0750</td>\n",
       "      <td>0.158</td>\n",
       "      <td>142.352</td>\n",
       "      <td>3</td>\n",
       "      <td>2</td>\n",
       "    </tr>\n",
       "    <tr>\n",
       "      <th>4</th>\n",
       "      <td>0.540</td>\n",
       "      <td>0.584</td>\n",
       "      <td>7</td>\n",
       "      <td>-9.579</td>\n",
       "      <td>1</td>\n",
       "      <td>0.0254</td>\n",
       "      <td>0.010800</td>\n",
       "      <td>0.002960</td>\n",
       "      <td>0.2530</td>\n",
       "      <td>0.244</td>\n",
       "      <td>139.261</td>\n",
       "      <td>4</td>\n",
       "      <td>0</td>\n",
       "    </tr>\n",
       "    <tr>\n",
       "      <th>...</th>\n",
       "      <td>...</td>\n",
       "      <td>...</td>\n",
       "      <td>...</td>\n",
       "      <td>...</td>\n",
       "      <td>...</td>\n",
       "      <td>...</td>\n",
       "      <td>...</td>\n",
       "      <td>...</td>\n",
       "      <td>...</td>\n",
       "      <td>...</td>\n",
       "      <td>...</td>\n",
       "      <td>...</td>\n",
       "      <td>...</td>\n",
       "    </tr>\n",
       "    <tr>\n",
       "      <th>1558</th>\n",
       "      <td>0.655</td>\n",
       "      <td>0.876</td>\n",
       "      <td>11</td>\n",
       "      <td>-5.929</td>\n",
       "      <td>0</td>\n",
       "      <td>0.0325</td>\n",
       "      <td>0.000170</td>\n",
       "      <td>0.014100</td>\n",
       "      <td>0.0476</td>\n",
       "      <td>0.673</td>\n",
       "      <td>122.862</td>\n",
       "      <td>4</td>\n",
       "      <td>2</td>\n",
       "    </tr>\n",
       "    <tr>\n",
       "      <th>1559</th>\n",
       "      <td>0.775</td>\n",
       "      <td>0.606</td>\n",
       "      <td>0</td>\n",
       "      <td>-9.860</td>\n",
       "      <td>1</td>\n",
       "      <td>0.1200</td>\n",
       "      <td>0.042000</td>\n",
       "      <td>0.000000</td>\n",
       "      <td>0.5230</td>\n",
       "      <td>0.788</td>\n",
       "      <td>103.648</td>\n",
       "      <td>4</td>\n",
       "      <td>3</td>\n",
       "    </tr>\n",
       "    <tr>\n",
       "      <th>1560</th>\n",
       "      <td>0.621</td>\n",
       "      <td>0.729</td>\n",
       "      <td>2</td>\n",
       "      <td>-11.710</td>\n",
       "      <td>0</td>\n",
       "      <td>0.0306</td>\n",
       "      <td>0.005080</td>\n",
       "      <td>0.000834</td>\n",
       "      <td>0.3350</td>\n",
       "      <td>0.467</td>\n",
       "      <td>134.966</td>\n",
       "      <td>4</td>\n",
       "      <td>2</td>\n",
       "    </tr>\n",
       "    <tr>\n",
       "      <th>1561</th>\n",
       "      <td>0.815</td>\n",
       "      <td>0.587</td>\n",
       "      <td>6</td>\n",
       "      <td>-10.161</td>\n",
       "      <td>0</td>\n",
       "      <td>0.2370</td>\n",
       "      <td>0.001790</td>\n",
       "      <td>0.019300</td>\n",
       "      <td>0.6450</td>\n",
       "      <td>0.754</td>\n",
       "      <td>111.762</td>\n",
       "      <td>4</td>\n",
       "      <td>3</td>\n",
       "    </tr>\n",
       "    <tr>\n",
       "      <th>1562</th>\n",
       "      <td>0.745</td>\n",
       "      <td>0.771</td>\n",
       "      <td>4</td>\n",
       "      <td>-8.231</td>\n",
       "      <td>0</td>\n",
       "      <td>0.0755</td>\n",
       "      <td>0.001040</td>\n",
       "      <td>0.387000</td>\n",
       "      <td>0.0574</td>\n",
       "      <td>0.752</td>\n",
       "      <td>95.623</td>\n",
       "      <td>4</td>\n",
       "      <td>2</td>\n",
       "    </tr>\n",
       "  </tbody>\n",
       "</table>\n",
       "<p>1563 rows × 13 columns</p>\n",
       "</div>"
      ],
      "text/plain": [
       "      danceability  energy  key  loudness  mode  speechiness  acousticness  \\\n",
       "0            0.511   0.970   10    -3.720     1       0.0414      0.000006   \n",
       "1            0.577   0.828    6    -8.691     0       0.0298      0.002130   \n",
       "2            0.543   0.836    4    -9.110     0       0.0353      0.000647   \n",
       "3            0.553   0.362    4   -11.218     0       0.0263      0.045800   \n",
       "4            0.540   0.584    7    -9.579     1       0.0254      0.010800   \n",
       "...            ...     ...  ...       ...   ...          ...           ...   \n",
       "1558         0.655   0.876   11    -5.929     0       0.0325      0.000170   \n",
       "1559         0.775   0.606    0    -9.860     1       0.1200      0.042000   \n",
       "1560         0.621   0.729    2   -11.710     0       0.0306      0.005080   \n",
       "1561         0.815   0.587    6   -10.161     0       0.2370      0.001790   \n",
       "1562         0.745   0.771    4    -8.231     0       0.0755      0.001040   \n",
       "\n",
       "      instrumentalness  liveness  valence    tempo  time_signature  cluster  \n",
       "0             0.001360    0.1800    0.566  132.986               4        0  \n",
       "1             0.011400    0.0581    0.604  123.257               4        2  \n",
       "2             0.431000    0.1530    0.560  105.173               4        2  \n",
       "3             0.000006    0.0750    0.158  142.352               3        2  \n",
       "4             0.002960    0.2530    0.244  139.261               4        0  \n",
       "...                ...       ...      ...      ...             ...      ...  \n",
       "1558          0.014100    0.0476    0.673  122.862               4        2  \n",
       "1559          0.000000    0.5230    0.788  103.648               4        3  \n",
       "1560          0.000834    0.3350    0.467  134.966               4        2  \n",
       "1561          0.019300    0.6450    0.754  111.762               4        3  \n",
       "1562          0.387000    0.0574    0.752   95.623               4        2  \n",
       "\n",
       "[1563 rows x 13 columns]"
      ]
     },
     "execution_count": 92,
     "metadata": {},
     "output_type": "execute_result"
    }
   ],
   "source": [
    "#X_df = pd.DataFrame(X)\n",
    "df[\"cluster\"] = clusters\n",
    "df"
   ]
  },
  {
   "cell_type": "code",
   "execution_count": 93,
   "id": "6d519a54-d6f6-4cf0-b2d5-07f5391f971d",
   "metadata": {},
   "outputs": [
    {
     "data": {
      "text/html": [
       "<div>\n",
       "<style scoped>\n",
       "    .dataframe tbody tr th:only-of-type {\n",
       "        vertical-align: middle;\n",
       "    }\n",
       "\n",
       "    .dataframe tbody tr th {\n",
       "        vertical-align: top;\n",
       "    }\n",
       "\n",
       "    .dataframe thead th {\n",
       "        text-align: right;\n",
       "    }\n",
       "</style>\n",
       "<table border=\"1\" class=\"dataframe\">\n",
       "  <thead>\n",
       "    <tr style=\"text-align: right;\">\n",
       "      <th></th>\n",
       "      <th>danceability</th>\n",
       "      <th>energy</th>\n",
       "      <th>key</th>\n",
       "      <th>loudness</th>\n",
       "      <th>mode</th>\n",
       "      <th>speechiness</th>\n",
       "      <th>acousticness</th>\n",
       "      <th>instrumentalness</th>\n",
       "      <th>liveness</th>\n",
       "      <th>valence</th>\n",
       "      <th>tempo</th>\n",
       "      <th>time_signature</th>\n",
       "      <th>cluster</th>\n",
       "    </tr>\n",
       "  </thead>\n",
       "  <tbody>\n",
       "    <tr>\n",
       "      <th>177</th>\n",
       "      <td>0.466</td>\n",
       "      <td>0.965</td>\n",
       "      <td>1</td>\n",
       "      <td>-2.597</td>\n",
       "      <td>0</td>\n",
       "      <td>0.0904</td>\n",
       "      <td>0.042</td>\n",
       "      <td>0.0</td>\n",
       "      <td>0.101</td>\n",
       "      <td>0.453</td>\n",
       "      <td>95.028</td>\n",
       "      <td>3</td>\n",
       "      <td>2</td>\n",
       "    </tr>\n",
       "  </tbody>\n",
       "</table>\n",
       "</div>"
      ],
      "text/plain": [
       "     danceability  energy  key  loudness  mode  speechiness  acousticness  \\\n",
       "177         0.466   0.965    1    -2.597     0       0.0904         0.042   \n",
       "\n",
       "     instrumentalness  liveness  valence   tempo  time_signature  cluster  \n",
       "177               0.0     0.101    0.453  95.028               3        2  "
      ]
     },
     "execution_count": 93,
     "metadata": {},
     "output_type": "execute_result"
    }
   ],
   "source": [
    "df[df['cluster'] == 2].sample()"
   ]
  },
  {
   "cell_type": "code",
   "execution_count": 94,
   "id": "47e00dd3-d499-47a8-a708-e17992238278",
   "metadata": {},
   "outputs": [
    {
     "data": {
      "text/plain": [
       "9070.272129648518"
      ]
     },
     "execution_count": 94,
     "metadata": {},
     "output_type": "execute_result"
    }
   ],
   "source": [
    "kmeans.inertia_"
   ]
  },
  {
   "cell_type": "code",
   "execution_count": 95,
   "id": "5744e42f-071e-4728-a405-a6f453e494be",
   "metadata": {},
   "outputs": [
    {
     "name": "stdout",
     "output_type": "stream",
     "text": [
      "9136.697947875058\n"
     ]
    }
   ],
   "source": [
    "kmeans2 = KMeans(n_clusters=8,\n",
    "                init=\"k-means++\",\n",
    "                n_init=10,  # try with 1, 4, 8, 20, 30, 100...\n",
    "                max_iter=5,\n",
    "                algorithm=\"elkan\",\n",
    "                random_state=1234)\n",
    "kmeans2.fit(df_scaled_df)\n",
    "print(kmeans2.inertia_)"
   ]
  },
  {
   "cell_type": "markdown",
   "id": "593f848e-b73c-4944-ab42-38e690ce4395",
   "metadata": {},
   "source": [
    "### Choosing K"
   ]
  },
  {
   "cell_type": "code",
   "execution_count": 96,
   "id": "0fc324bf-bcb6-4f5d-99ac-c597c71a8e98",
   "metadata": {},
   "outputs": [
    {
     "name": "stdout",
     "output_type": "stream",
     "text": [
      "Training a K-Means model with 2 clusters! \n",
      "\n"
     ]
    },
    {
     "name": "stderr",
     "output_type": "stream",
     "text": [
      "C:\\Users\\ETTORE\\anaconda3\\lib\\site-packages\\sklearn\\cluster\\_kmeans.py:1412: FutureWarning: The default value of `n_init` will change from 10 to 'auto' in 1.4. Set the value of `n_init` explicitly to suppress the warning\n",
      "  super()._check_params_vs_input(X, default_n_init=10)\n"
     ]
    },
    {
     "name": "stdout",
     "output_type": "stream",
     "text": [
      "Training a K-Means model with 3 clusters! \n",
      "\n"
     ]
    },
    {
     "name": "stderr",
     "output_type": "stream",
     "text": [
      "C:\\Users\\ETTORE\\anaconda3\\lib\\site-packages\\sklearn\\cluster\\_kmeans.py:1412: FutureWarning: The default value of `n_init` will change from 10 to 'auto' in 1.4. Set the value of `n_init` explicitly to suppress the warning\n",
      "  super()._check_params_vs_input(X, default_n_init=10)\n"
     ]
    },
    {
     "name": "stdout",
     "output_type": "stream",
     "text": [
      "Training a K-Means model with 4 clusters! \n",
      "\n"
     ]
    },
    {
     "name": "stderr",
     "output_type": "stream",
     "text": [
      "C:\\Users\\ETTORE\\anaconda3\\lib\\site-packages\\sklearn\\cluster\\_kmeans.py:1412: FutureWarning: The default value of `n_init` will change from 10 to 'auto' in 1.4. Set the value of `n_init` explicitly to suppress the warning\n",
      "  super()._check_params_vs_input(X, default_n_init=10)\n"
     ]
    },
    {
     "name": "stdout",
     "output_type": "stream",
     "text": [
      "Training a K-Means model with 5 clusters! \n",
      "\n"
     ]
    },
    {
     "name": "stderr",
     "output_type": "stream",
     "text": [
      "C:\\Users\\ETTORE\\anaconda3\\lib\\site-packages\\sklearn\\cluster\\_kmeans.py:1412: FutureWarning: The default value of `n_init` will change from 10 to 'auto' in 1.4. Set the value of `n_init` explicitly to suppress the warning\n",
      "  super()._check_params_vs_input(X, default_n_init=10)\n"
     ]
    },
    {
     "name": "stdout",
     "output_type": "stream",
     "text": [
      "Training a K-Means model with 6 clusters! \n",
      "\n"
     ]
    },
    {
     "name": "stderr",
     "output_type": "stream",
     "text": [
      "C:\\Users\\ETTORE\\anaconda3\\lib\\site-packages\\sklearn\\cluster\\_kmeans.py:1412: FutureWarning: The default value of `n_init` will change from 10 to 'auto' in 1.4. Set the value of `n_init` explicitly to suppress the warning\n",
      "  super()._check_params_vs_input(X, default_n_init=10)\n"
     ]
    },
    {
     "name": "stdout",
     "output_type": "stream",
     "text": [
      "Training a K-Means model with 7 clusters! \n",
      "\n"
     ]
    },
    {
     "name": "stderr",
     "output_type": "stream",
     "text": [
      "C:\\Users\\ETTORE\\anaconda3\\lib\\site-packages\\sklearn\\cluster\\_kmeans.py:1412: FutureWarning: The default value of `n_init` will change from 10 to 'auto' in 1.4. Set the value of `n_init` explicitly to suppress the warning\n",
      "  super()._check_params_vs_input(X, default_n_init=10)\n"
     ]
    },
    {
     "name": "stdout",
     "output_type": "stream",
     "text": [
      "Training a K-Means model with 8 clusters! \n",
      "\n"
     ]
    },
    {
     "name": "stderr",
     "output_type": "stream",
     "text": [
      "C:\\Users\\ETTORE\\anaconda3\\lib\\site-packages\\sklearn\\cluster\\_kmeans.py:1412: FutureWarning: The default value of `n_init` will change from 10 to 'auto' in 1.4. Set the value of `n_init` explicitly to suppress the warning\n",
      "  super()._check_params_vs_input(X, default_n_init=10)\n"
     ]
    },
    {
     "name": "stdout",
     "output_type": "stream",
     "text": [
      "Training a K-Means model with 9 clusters! \n",
      "\n"
     ]
    },
    {
     "name": "stderr",
     "output_type": "stream",
     "text": [
      "C:\\Users\\ETTORE\\anaconda3\\lib\\site-packages\\sklearn\\cluster\\_kmeans.py:1412: FutureWarning: The default value of `n_init` will change from 10 to 'auto' in 1.4. Set the value of `n_init` explicitly to suppress the warning\n",
      "  super()._check_params_vs_input(X, default_n_init=10)\n"
     ]
    },
    {
     "name": "stdout",
     "output_type": "stream",
     "text": [
      "Training a K-Means model with 10 clusters! \n",
      "\n"
     ]
    },
    {
     "name": "stderr",
     "output_type": "stream",
     "text": [
      "C:\\Users\\ETTORE\\anaconda3\\lib\\site-packages\\sklearn\\cluster\\_kmeans.py:1412: FutureWarning: The default value of `n_init` will change from 10 to 'auto' in 1.4. Set the value of `n_init` explicitly to suppress the warning\n",
      "  super()._check_params_vs_input(X, default_n_init=10)\n"
     ]
    },
    {
     "name": "stdout",
     "output_type": "stream",
     "text": [
      "Training a K-Means model with 11 clusters! \n",
      "\n"
     ]
    },
    {
     "name": "stderr",
     "output_type": "stream",
     "text": [
      "C:\\Users\\ETTORE\\anaconda3\\lib\\site-packages\\sklearn\\cluster\\_kmeans.py:1412: FutureWarning: The default value of `n_init` will change from 10 to 'auto' in 1.4. Set the value of `n_init` explicitly to suppress the warning\n",
      "  super()._check_params_vs_input(X, default_n_init=10)\n"
     ]
    },
    {
     "name": "stdout",
     "output_type": "stream",
     "text": [
      "Training a K-Means model with 12 clusters! \n",
      "\n"
     ]
    },
    {
     "name": "stderr",
     "output_type": "stream",
     "text": [
      "C:\\Users\\ETTORE\\anaconda3\\lib\\site-packages\\sklearn\\cluster\\_kmeans.py:1412: FutureWarning: The default value of `n_init` will change from 10 to 'auto' in 1.4. Set the value of `n_init` explicitly to suppress the warning\n",
      "  super()._check_params_vs_input(X, default_n_init=10)\n"
     ]
    },
    {
     "name": "stdout",
     "output_type": "stream",
     "text": [
      "Training a K-Means model with 13 clusters! \n",
      "\n"
     ]
    },
    {
     "name": "stderr",
     "output_type": "stream",
     "text": [
      "C:\\Users\\ETTORE\\anaconda3\\lib\\site-packages\\sklearn\\cluster\\_kmeans.py:1412: FutureWarning: The default value of `n_init` will change from 10 to 'auto' in 1.4. Set the value of `n_init` explicitly to suppress the warning\n",
      "  super()._check_params_vs_input(X, default_n_init=10)\n"
     ]
    },
    {
     "name": "stdout",
     "output_type": "stream",
     "text": [
      "Training a K-Means model with 14 clusters! \n",
      "\n"
     ]
    },
    {
     "name": "stderr",
     "output_type": "stream",
     "text": [
      "C:\\Users\\ETTORE\\anaconda3\\lib\\site-packages\\sklearn\\cluster\\_kmeans.py:1412: FutureWarning: The default value of `n_init` will change from 10 to 'auto' in 1.4. Set the value of `n_init` explicitly to suppress the warning\n",
      "  super()._check_params_vs_input(X, default_n_init=10)\n"
     ]
    },
    {
     "name": "stdout",
     "output_type": "stream",
     "text": [
      "Training a K-Means model with 15 clusters! \n",
      "\n"
     ]
    },
    {
     "name": "stderr",
     "output_type": "stream",
     "text": [
      "C:\\Users\\ETTORE\\anaconda3\\lib\\site-packages\\sklearn\\cluster\\_kmeans.py:1412: FutureWarning: The default value of `n_init` will change from 10 to 'auto' in 1.4. Set the value of `n_init` explicitly to suppress the warning\n",
      "  super()._check_params_vs_input(X, default_n_init=10)\n"
     ]
    },
    {
     "name": "stdout",
     "output_type": "stream",
     "text": [
      "Training a K-Means model with 16 clusters! \n",
      "\n"
     ]
    },
    {
     "name": "stderr",
     "output_type": "stream",
     "text": [
      "C:\\Users\\ETTORE\\anaconda3\\lib\\site-packages\\sklearn\\cluster\\_kmeans.py:1412: FutureWarning: The default value of `n_init` will change from 10 to 'auto' in 1.4. Set the value of `n_init` explicitly to suppress the warning\n",
      "  super()._check_params_vs_input(X, default_n_init=10)\n"
     ]
    },
    {
     "name": "stdout",
     "output_type": "stream",
     "text": [
      "Training a K-Means model with 17 clusters! \n",
      "\n"
     ]
    },
    {
     "name": "stderr",
     "output_type": "stream",
     "text": [
      "C:\\Users\\ETTORE\\anaconda3\\lib\\site-packages\\sklearn\\cluster\\_kmeans.py:1412: FutureWarning: The default value of `n_init` will change from 10 to 'auto' in 1.4. Set the value of `n_init` explicitly to suppress the warning\n",
      "  super()._check_params_vs_input(X, default_n_init=10)\n"
     ]
    },
    {
     "name": "stdout",
     "output_type": "stream",
     "text": [
      "Training a K-Means model with 18 clusters! \n",
      "\n"
     ]
    },
    {
     "name": "stderr",
     "output_type": "stream",
     "text": [
      "C:\\Users\\ETTORE\\anaconda3\\lib\\site-packages\\sklearn\\cluster\\_kmeans.py:1412: FutureWarning: The default value of `n_init` will change from 10 to 'auto' in 1.4. Set the value of `n_init` explicitly to suppress the warning\n",
      "  super()._check_params_vs_input(X, default_n_init=10)\n"
     ]
    },
    {
     "name": "stdout",
     "output_type": "stream",
     "text": [
      "Training a K-Means model with 19 clusters! \n",
      "\n"
     ]
    },
    {
     "name": "stderr",
     "output_type": "stream",
     "text": [
      "C:\\Users\\ETTORE\\anaconda3\\lib\\site-packages\\sklearn\\cluster\\_kmeans.py:1412: FutureWarning: The default value of `n_init` will change from 10 to 'auto' in 1.4. Set the value of `n_init` explicitly to suppress the warning\n",
      "  super()._check_params_vs_input(X, default_n_init=10)\n"
     ]
    },
    {
     "data": {
      "text/plain": [
       "Text(0.5, 1.0, 'Elbow Method showing the optimal k')"
      ]
     },
     "execution_count": 96,
     "metadata": {},
     "output_type": "execute_result"
    },
    {
     "data": {
      "image/png": "[encoded data removed]",
      "text/plain": [
       "<Figure size 1600x800 with 1 Axes>"
      ]
     },
     "metadata": {},
     "output_type": "display_data"
    }
   ],
   "source": [
    "K = range(2, 20)\n",
    "inertia = []\n",
    "\n",
    "for k in K:\n",
    "    print(\"Training a K-Means model with {} clusters! \".format(k))\n",
    "    print()\n",
    "    kmeans = KMeans(n_clusters=k,\n",
    "                    random_state=1234)\n",
    "    kmeans.fit(df_scaled_df)\n",
    "    inertia.append(kmeans.inertia_)\n",
    "\n",
    "import numpy as np\n",
    "import matplotlib.pyplot as plt\n",
    "%matplotlib inline\n",
    "\n",
    "plt.figure(figsize=(16,8))\n",
    "plt.plot(K, inertia, 'bx-')\n",
    "plt.xlabel('k')\n",
    "plt.ylabel('inertia')\n",
    "plt.xticks(np.arange(min(K), max(K)+1, 1.0))\n",
    "plt.title('Elbow Method showing the optimal k')"
   ]
  },
  {
   "cell_type": "markdown",
   "id": "034a7dae-24c9-4469-b0e3-7c9bf689d49d",
   "metadata": {},
   "source": [
    "### Silhouette"
   ]
  },
  {
   "cell_type": "code",
   "execution_count": 97,
   "id": "5bb8afa0-c1c1-4d9c-b569-194a7f8a4abf",
   "metadata": {},
   "outputs": [
    {
     "data": {
      "text/plain": [
       "Text(0.5, 1.0, 'Silhouette Method showing the optimal k')"
      ]
     },
     "execution_count": 97,
     "metadata": {},
     "output_type": "execute_result"
    },
    {
     "data": {
      "image/png": "[encoded data removed]",
      "text/plain": [
       "<Figure size 1600x800 with 1 Axes>"
      ]
     },
     "metadata": {},
     "output_type": "display_data"
    }
   ],
   "source": [
    "K = range(2, 20)\n",
    "silhouette = []\n",
    "\n",
    "for k in K:\n",
    "    kmeans = KMeans(n_clusters=k,\n",
    "                    random_state=1234, n_init='auto')\n",
    "    kmeans.fit(df_scaled_df)\n",
    "    \n",
    "    filename = \"kmeans_\" + str(k) + \".pickle\"\n",
    "    with open(filename, \"wb\") as f:\n",
    "        pickle.dump(kmeans,f)\n",
    "    \n",
    "    silhouette.append(silhouette_score(df_scaled_df, kmeans.predict(df_scaled_df)))\n",
    "\n",
    "\n",
    "plt.figure(figsize=(16,8))\n",
    "plt.plot(K, silhouette, 'bx-')\n",
    "plt.xlabel('k')\n",
    "plt.ylabel('silhouette score')\n",
    "plt.xticks(np.arange(min(K), max(K)+1, 1.0))\n",
    "plt.title('Silhouette Method showing the optimal k')"
   ]
  },
  {
   "cell_type": "code",
   "execution_count": 98,
   "id": "d7d07d46-34c0-493b-bf57-fc1f836a89b1",
   "metadata": {},
   "outputs": [
    {
     "name": "stderr",
     "output_type": "stream",
     "text": [
      "C:\\Users\\ETTORE\\anaconda3\\lib\\site-packages\\sklearn\\cluster\\_kmeans.py:1412: FutureWarning: The default value of `n_init` will change from 10 to 'auto' in 1.4. Set the value of `n_init` explicitly to suppress the warning\n",
      "  super()._check_params_vs_input(X, default_n_init=10)\n"
     ]
    },
    {
     "data": {
      "image/png": "[encoded data removed]",
      "text/plain": [
       "<Figure size 800x550 with 1 Axes>"
      ]
     },
     "metadata": {},
     "output_type": "display_data"
    },
    {
     "data": {
      "text/plain": [
       "<Axes: title={'center': 'Silhouette Plot of KMeans Clustering for 1563 Samples in 8 Centers'}, xlabel='silhouette coefficient values', ylabel='cluster label'>"
      ]
     },
     "execution_count": 98,
     "metadata": {},
     "output_type": "execute_result"
    }
   ],
   "source": [
    "from yellowbrick.cluster import SilhouetteVisualizer\n",
    "model = KMeans(8, random_state=1234)\n",
    "visualizer = SilhouetteVisualizer(model, colors='yellowbrick')\n",
    "visualizer.fit(df_scaled_df)        # Fit the data to the visualizer\n",
    "visualizer.show()        # Finalize and render the figure"
   ]
  },
  {
   "cell_type": "markdown",
   "id": "cc3c48fb-ee10-483a-b4e6-126b5fe59930",
   "metadata": {},
   "source": [
    "### Saving with pickle"
   ]
  },
  {
   "cell_type": "code",
   "execution_count": 99,
   "id": "60ad9a4b-3abe-4b41-ae32-c910a8954d78",
   "metadata": {},
   "outputs": [
    {
     "name": "stderr",
     "output_type": "stream",
     "text": [
      "C:\\Users\\ETTORE\\anaconda3\\lib\\site-packages\\sklearn\\cluster\\_kmeans.py:1412: FutureWarning: The default value of `n_init` will change from 10 to 'auto' in 1.4. Set the value of `n_init` explicitly to suppress the warning\n",
      "  super()._check_params_vs_input(X, default_n_init=10)\n"
     ]
    },
    {
     "data": {
      "text/html": [
       "<style>#sk-container-id-9 {color: black;}#sk-container-id-9 pre{padding: 0;}#sk-container-id-9 div.sk-toggleable {background-color: white;}#sk-container-id-9 label.sk-toggleable__label {cursor: pointer;display: block;width: 100%;margin-bottom: 0;padding: 0.3em;box-sizing: border-box;text-align: center;}#sk-container-id-9 label.sk-toggleable__label-arrow:before {content: \"▸\";float: left;margin-right: 0.25em;color: #696969;}#sk-container-id-9 label.sk-toggleable__label-arrow:hover:before {color: black;}#sk-container-id-9 div.sk-estimator:hover label.sk-toggleable__label-arrow:before {color: black;}#sk-container-id-9 div.sk-toggleable__content {max-height: 0;max-width: 0;overflow: hidden;text-align: left;background-color: #f0f8ff;}#sk-container-id-9 div.sk-toggleable__content pre {margin: 0.2em;color: black;border-radius: 0.25em;background-color: #f0f8ff;}#sk-container-id-9 input.sk-toggleable__control:checked~div.sk-toggleable__content {max-height: 200px;max-width: 100%;overflow: auto;}#sk-container-id-9 input.sk-toggleable__control:checked~label.sk-toggleable__label-arrow:before {content: \"▾\";}#sk-container-id-9 div.sk-estimator input.sk-toggleable__control:checked~label.sk-toggleable__label {background-color: #d4ebff;}#sk-container-id-9 div.sk-label input.sk-toggleable__control:checked~label.sk-toggleable__label {background-color: #d4ebff;}#sk-container-id-9 input.sk-hidden--visually {border: 0;clip: rect(1px 1px 1px 1px);clip: rect(1px, 1px, 1px, 1px);height: 1px;margin: -1px;overflow: hidden;padding: 0;position: absolute;width: 1px;}#sk-container-id-9 div.sk-estimator {font-family: monospace;background-color: #f0f8ff;border: 1px dotted black;border-radius: 0.25em;box-sizing: border-box;margin-bottom: 0.5em;}#sk-container-id-9 div.sk-estimator:hover {background-color: #d4ebff;}#sk-container-id-9 div.sk-parallel-item::after {content: \"\";width: 100%;border-bottom: 1px solid gray;flex-grow: 1;}#sk-container-id-9 div.sk-label:hover label.sk-toggleable__label {background-color: #d4ebff;}#sk-container-id-9 div.sk-serial::before {content: \"\";position: absolute;border-left: 1px solid gray;box-sizing: border-box;top: 0;bottom: 0;left: 50%;z-index: 0;}#sk-container-id-9 div.sk-serial {display: flex;flex-direction: column;align-items: center;background-color: white;padding-right: 0.2em;padding-left: 0.2em;position: relative;}#sk-container-id-9 div.sk-item {position: relative;z-index: 1;}#sk-container-id-9 div.sk-parallel {display: flex;align-items: stretch;justify-content: center;background-color: white;position: relative;}#sk-container-id-9 div.sk-item::before, #sk-container-id-9 div.sk-parallel-item::before {content: \"\";position: absolute;border-left: 1px solid gray;box-sizing: border-box;top: 0;bottom: 0;left: 50%;z-index: -1;}#sk-container-id-9 div.sk-parallel-item {display: flex;flex-direction: column;z-index: 1;position: relative;background-color: white;}#sk-container-id-9 div.sk-parallel-item:first-child::after {align-self: flex-end;width: 50%;}#sk-container-id-9 div.sk-parallel-item:last-child::after {align-self: flex-start;width: 50%;}#sk-container-id-9 div.sk-parallel-item:only-child::after {width: 0;}#sk-container-id-9 div.sk-dashed-wrapped {border: 1px dashed gray;margin: 0 0.4em 0.5em 0.4em;box-sizing: border-box;padding-bottom: 0.4em;background-color: white;}#sk-container-id-9 div.sk-label label {font-family: monospace;font-weight: bold;display: inline-block;line-height: 1.2em;}#sk-container-id-9 div.sk-label-container {text-align: center;}#sk-container-id-9 div.sk-container {/* jupyter's `normalize.less` sets `[hidden] { display: none; }` but bootstrap.min.css set `[hidden] { display: none !important; }` so we also need the `!important` here to be able to override the default hidden behavior on the sphinx rendered scikit-learn.org. See: https://github.com/scikit-learn/scikit-learn/issues/21755 */display: inline-block !important;position: relative;}#sk-container-id-9 div.sk-text-repr-fallback {display: none;}</style><div id=\"sk-container-id-9\" class=\"sk-top-container\"><div class=\"sk-text-repr-fallback\"><pre>KMeans(random_state=1234)</pre><b>In a Jupyter environment, please rerun this cell to show the HTML representation or trust the notebook. <br />On GitHub, the HTML representation is unable to render, please try loading this page with nbviewer.org.</b></div><div class=\"sk-container\" hidden><div class=\"sk-item\"><div class=\"sk-estimator sk-toggleable\"><input class=\"sk-toggleable__control sk-hidden--visually\" id=\"sk-estimator-id-9\" type=\"checkbox\" checked><label for=\"sk-estimator-id-9\" class=\"sk-toggleable__label sk-toggleable__label-arrow\">KMeans</label><div class=\"sk-toggleable__content\"><pre>KMeans(random_state=1234)</pre></div></div></div></div></div>"
      ],
      "text/plain": [
       "KMeans(random_state=1234)"
      ]
     },
     "execution_count": 99,
     "metadata": {},
     "output_type": "execute_result"
    }
   ],
   "source": [
    "kmeans = KMeans(n_clusters=8, random_state=1234)\n",
    "kmeans.fit(df_scaled_df)"
   ]
  },
  {
   "cell_type": "code",
   "execution_count": 100,
   "id": "c70d8a7d-092d-4c82-bead-632ad220e6a6",
   "metadata": {},
   "outputs": [],
   "source": [
    "def save(model, filename = \"filename.pickle\"):\n",
    "    with open(filename, \"wb\") as f:\n",
    "    \tpickle.dump(model, f)"
   ]
  },
  {
   "cell_type": "code",
   "execution_count": 101,
   "id": "47686d96-c5dd-421c-b84c-6dd386235b53",
   "metadata": {},
   "outputs": [],
   "source": [
    "save(kmeans, \"spot_model.pickle\")"
   ]
  },
  {
   "cell_type": "code",
   "execution_count": 102,
   "id": "e20468fa-472c-4b2e-85a8-7ffc00e85084",
   "metadata": {},
   "outputs": [],
   "source": [
    "def load(spot_model = \"spot_model.pickle\"): \n",
    "    try: \n",
    "        with open(spot_model, \"rb\") as f: \n",
    "            return pickle.load(f) \n",
    "        \n",
    "    except FileNotFoundError: \n",
    "        print(\"File not found!\") "
   ]
  },
  {
   "cell_type": "code",
   "execution_count": 103,
   "id": "f9cceee6-6bf1-4580-a35f-619993192aca",
   "metadata": {},
   "outputs": [],
   "source": [
    "save(scaler, \"scaler_spot.pickle\")"
   ]
  },
  {
   "cell_type": "code",
   "execution_count": 104,
   "id": "094c113f-bbf1-4507-933b-edcbcb920b4a",
   "metadata": {},
   "outputs": [],
   "source": [
    "kmeans_model = load(spot_model=\"kmeans_8.pickle\")"
   ]
  },
  {
   "cell_type": "code",
   "execution_count": 105,
   "id": "f0b0bb8c-77e9-4ab7-9868-c66f38573554",
   "metadata": {},
   "outputs": [
    {
     "data": {
      "text/html": [
       "<style>#sk-container-id-10 {color: black;}#sk-container-id-10 pre{padding: 0;}#sk-container-id-10 div.sk-toggleable {background-color: white;}#sk-container-id-10 label.sk-toggleable__label {cursor: pointer;display: block;width: 100%;margin-bottom: 0;padding: 0.3em;box-sizing: border-box;text-align: center;}#sk-container-id-10 label.sk-toggleable__label-arrow:before {content: \"▸\";float: left;margin-right: 0.25em;color: #696969;}#sk-container-id-10 label.sk-toggleable__label-arrow:hover:before {color: black;}#sk-container-id-10 div.sk-estimator:hover label.sk-toggleable__label-arrow:before {color: black;}#sk-container-id-10 div.sk-toggleable__content {max-height: 0;max-width: 0;overflow: hidden;text-align: left;background-color: #f0f8ff;}#sk-container-id-10 div.sk-toggleable__content pre {margin: 0.2em;color: black;border-radius: 0.25em;background-color: #f0f8ff;}#sk-container-id-10 input.sk-toggleable__control:checked~div.sk-toggleable__content {max-height: 200px;max-width: 100%;overflow: auto;}#sk-container-id-10 input.sk-toggleable__control:checked~label.sk-toggleable__label-arrow:before {content: \"▾\";}#sk-container-id-10 div.sk-estimator input.sk-toggleable__control:checked~label.sk-toggleable__label {background-color: #d4ebff;}#sk-container-id-10 div.sk-label input.sk-toggleable__control:checked~label.sk-toggleable__label {background-color: #d4ebff;}#sk-container-id-10 input.sk-hidden--visually {border: 0;clip: rect(1px 1px 1px 1px);clip: rect(1px, 1px, 1px, 1px);height: 1px;margin: -1px;overflow: hidden;padding: 0;position: absolute;width: 1px;}#sk-container-id-10 div.sk-estimator {font-family: monospace;background-color: #f0f8ff;border: 1px dotted black;border-radius: 0.25em;box-sizing: border-box;margin-bottom: 0.5em;}#sk-container-id-10 div.sk-estimator:hover {background-color: #d4ebff;}#sk-container-id-10 div.sk-parallel-item::after {content: \"\";width: 100%;border-bottom: 1px solid gray;flex-grow: 1;}#sk-container-id-10 div.sk-label:hover label.sk-toggleable__label {background-color: #d4ebff;}#sk-container-id-10 div.sk-serial::before {content: \"\";position: absolute;border-left: 1px solid gray;box-sizing: border-box;top: 0;bottom: 0;left: 50%;z-index: 0;}#sk-container-id-10 div.sk-serial {display: flex;flex-direction: column;align-items: center;background-color: white;padding-right: 0.2em;padding-left: 0.2em;position: relative;}#sk-container-id-10 div.sk-item {position: relative;z-index: 1;}#sk-container-id-10 div.sk-parallel {display: flex;align-items: stretch;justify-content: center;background-color: white;position: relative;}#sk-container-id-10 div.sk-item::before, #sk-container-id-10 div.sk-parallel-item::before {content: \"\";position: absolute;border-left: 1px solid gray;box-sizing: border-box;top: 0;bottom: 0;left: 50%;z-index: -1;}#sk-container-id-10 div.sk-parallel-item {display: flex;flex-direction: column;z-index: 1;position: relative;background-color: white;}#sk-container-id-10 div.sk-parallel-item:first-child::after {align-self: flex-end;width: 50%;}#sk-container-id-10 div.sk-parallel-item:last-child::after {align-self: flex-start;width: 50%;}#sk-container-id-10 div.sk-parallel-item:only-child::after {width: 0;}#sk-container-id-10 div.sk-dashed-wrapped {border: 1px dashed gray;margin: 0 0.4em 0.5em 0.4em;box-sizing: border-box;padding-bottom: 0.4em;background-color: white;}#sk-container-id-10 div.sk-label label {font-family: monospace;font-weight: bold;display: inline-block;line-height: 1.2em;}#sk-container-id-10 div.sk-label-container {text-align: center;}#sk-container-id-10 div.sk-container {/* jupyter's `normalize.less` sets `[hidden] { display: none; }` but bootstrap.min.css set `[hidden] { display: none !important; }` so we also need the `!important` here to be able to override the default hidden behavior on the sphinx rendered scikit-learn.org. See: https://github.com/scikit-learn/scikit-learn/issues/21755 */display: inline-block !important;position: relative;}#sk-container-id-10 div.sk-text-repr-fallback {display: none;}</style><div id=\"sk-container-id-10\" class=\"sk-top-container\"><div class=\"sk-text-repr-fallback\"><pre>KMeans(n_init=&#x27;auto&#x27;, random_state=1234)</pre><b>In a Jupyter environment, please rerun this cell to show the HTML representation or trust the notebook. <br />On GitHub, the HTML representation is unable to render, please try loading this page with nbviewer.org.</b></div><div class=\"sk-container\" hidden><div class=\"sk-item\"><div class=\"sk-estimator sk-toggleable\"><input class=\"sk-toggleable__control sk-hidden--visually\" id=\"sk-estimator-id-10\" type=\"checkbox\" checked><label for=\"sk-estimator-id-10\" class=\"sk-toggleable__label sk-toggleable__label-arrow\">KMeans</label><div class=\"sk-toggleable__content\"><pre>KMeans(n_init=&#x27;auto&#x27;, random_state=1234)</pre></div></div></div></div></div>"
      ],
      "text/plain": [
       "KMeans(n_init='auto', random_state=1234)"
      ]
     },
     "execution_count": 105,
     "metadata": {},
     "output_type": "execute_result"
    }
   ],
   "source": [
    "kmeans_model"
   ]
  },
  {
   "cell_type": "code",
   "execution_count": 106,
   "id": "12b55083-e12d-40e6-b43e-2a47794a5b95",
   "metadata": {},
   "outputs": [],
   "source": [
    "df1[\"cluster\"] = kmeans_model.labels_"
   ]
  },
  {
   "cell_type": "code",
   "execution_count": 107,
   "id": "6f807f34-c308-451c-832d-719e38d09c88",
   "metadata": {},
   "outputs": [
    {
     "data": {
      "text/html": [
       "<div>\n",
       "<style scoped>\n",
       "    .dataframe tbody tr th:only-of-type {\n",
       "        vertical-align: middle;\n",
       "    }\n",
       "\n",
       "    .dataframe tbody tr th {\n",
       "        vertical-align: top;\n",
       "    }\n",
       "\n",
       "    .dataframe thead th {\n",
       "        text-align: right;\n",
       "    }\n",
       "</style>\n",
       "<table border=\"1\" class=\"dataframe\">\n",
       "  <thead>\n",
       "    <tr style=\"text-align: right;\">\n",
       "      <th></th>\n",
       "      <th>danceability</th>\n",
       "      <th>energy</th>\n",
       "      <th>key</th>\n",
       "      <th>loudness</th>\n",
       "      <th>mode</th>\n",
       "      <th>speechiness</th>\n",
       "      <th>acousticness</th>\n",
       "      <th>instrumentalness</th>\n",
       "      <th>liveness</th>\n",
       "      <th>valence</th>\n",
       "      <th>tempo</th>\n",
       "      <th>type</th>\n",
       "      <th>id</th>\n",
       "      <th>uri</th>\n",
       "      <th>track_href</th>\n",
       "      <th>analysis_url</th>\n",
       "      <th>duration_ms</th>\n",
       "      <th>time_signature</th>\n",
       "      <th>cluster</th>\n",
       "    </tr>\n",
       "  </thead>\n",
       "  <tbody>\n",
       "    <tr>\n",
       "      <th>0</th>\n",
       "      <td>0.511</td>\n",
       "      <td>0.970</td>\n",
       "      <td>10</td>\n",
       "      <td>-3.720</td>\n",
       "      <td>1</td>\n",
       "      <td>0.0414</td>\n",
       "      <td>0.000006</td>\n",
       "      <td>0.001360</td>\n",
       "      <td>0.1800</td>\n",
       "      <td>0.566</td>\n",
       "      <td>132.986</td>\n",
       "      <td>audio_features</td>\n",
       "      <td>2R6UrJ8uWbSIiHWmvRQvN8</td>\n",
       "      <td>spotify:track:2R6UrJ8uWbSIiHWmvRQvN8</td>\n",
       "      <td>https://api.spotify.com/v1/tracks/2R6UrJ8uWbSI...</td>\n",
       "      <td>https://api.spotify.com/v1/audio-analysis/2R6U...</td>\n",
       "      <td>304693</td>\n",
       "      <td>4</td>\n",
       "      <td>6</td>\n",
       "    </tr>\n",
       "    <tr>\n",
       "      <th>1</th>\n",
       "      <td>0.577</td>\n",
       "      <td>0.828</td>\n",
       "      <td>6</td>\n",
       "      <td>-8.691</td>\n",
       "      <td>0</td>\n",
       "      <td>0.0298</td>\n",
       "      <td>0.002130</td>\n",
       "      <td>0.011400</td>\n",
       "      <td>0.0581</td>\n",
       "      <td>0.604</td>\n",
       "      <td>123.257</td>\n",
       "      <td>audio_features</td>\n",
       "      <td>5sICkBXVmaCQk5aISGR3x1</td>\n",
       "      <td>spotify:track:5sICkBXVmaCQk5aISGR3x1</td>\n",
       "      <td>https://api.spotify.com/v1/tracks/5sICkBXVmaCQ...</td>\n",
       "      <td>https://api.spotify.com/v1/audio-analysis/5sIC...</td>\n",
       "      <td>331267</td>\n",
       "      <td>4</td>\n",
       "      <td>3</td>\n",
       "    </tr>\n",
       "    <tr>\n",
       "      <th>2</th>\n",
       "      <td>0.543</td>\n",
       "      <td>0.836</td>\n",
       "      <td>4</td>\n",
       "      <td>-9.110</td>\n",
       "      <td>0</td>\n",
       "      <td>0.0353</td>\n",
       "      <td>0.000647</td>\n",
       "      <td>0.431000</td>\n",
       "      <td>0.1530</td>\n",
       "      <td>0.560</td>\n",
       "      <td>105.173</td>\n",
       "      <td>audio_features</td>\n",
       "      <td>2MuWTIM3b0YEAskbeeFE1i</td>\n",
       "      <td>spotify:track:2MuWTIM3b0YEAskbeeFE1i</td>\n",
       "      <td>https://api.spotify.com/v1/tracks/2MuWTIM3b0YE...</td>\n",
       "      <td>https://api.spotify.com/v1/audio-analysis/2MuW...</td>\n",
       "      <td>515387</td>\n",
       "      <td>4</td>\n",
       "      <td>3</td>\n",
       "    </tr>\n",
       "    <tr>\n",
       "      <th>3</th>\n",
       "      <td>0.553</td>\n",
       "      <td>0.362</td>\n",
       "      <td>4</td>\n",
       "      <td>-11.218</td>\n",
       "      <td>0</td>\n",
       "      <td>0.0263</td>\n",
       "      <td>0.045800</td>\n",
       "      <td>0.000006</td>\n",
       "      <td>0.0750</td>\n",
       "      <td>0.158</td>\n",
       "      <td>142.352</td>\n",
       "      <td>audio_features</td>\n",
       "      <td>0nLiqZ6A27jJri2VCalIUs</td>\n",
       "      <td>spotify:track:0nLiqZ6A27jJri2VCalIUs</td>\n",
       "      <td>https://api.spotify.com/v1/tracks/0nLiqZ6A27jJ...</td>\n",
       "      <td>https://api.spotify.com/v1/audio-analysis/0nLi...</td>\n",
       "      <td>388267</td>\n",
       "      <td>3</td>\n",
       "      <td>2</td>\n",
       "    </tr>\n",
       "    <tr>\n",
       "      <th>4</th>\n",
       "      <td>0.540</td>\n",
       "      <td>0.584</td>\n",
       "      <td>7</td>\n",
       "      <td>-9.579</td>\n",
       "      <td>1</td>\n",
       "      <td>0.0254</td>\n",
       "      <td>0.010800</td>\n",
       "      <td>0.002960</td>\n",
       "      <td>0.2530</td>\n",
       "      <td>0.244</td>\n",
       "      <td>139.261</td>\n",
       "      <td>audio_features</td>\n",
       "      <td>4aYLAF6ckQ5ooGGGM7sWAa</td>\n",
       "      <td>spotify:track:4aYLAF6ckQ5ooGGGM7sWAa</td>\n",
       "      <td>https://api.spotify.com/v1/tracks/4aYLAF6ckQ5o...</td>\n",
       "      <td>https://api.spotify.com/v1/audio-analysis/4aYL...</td>\n",
       "      <td>386493</td>\n",
       "      <td>4</td>\n",
       "      <td>5</td>\n",
       "    </tr>\n",
       "    <tr>\n",
       "      <th>...</th>\n",
       "      <td>...</td>\n",
       "      <td>...</td>\n",
       "      <td>...</td>\n",
       "      <td>...</td>\n",
       "      <td>...</td>\n",
       "      <td>...</td>\n",
       "      <td>...</td>\n",
       "      <td>...</td>\n",
       "      <td>...</td>\n",
       "      <td>...</td>\n",
       "      <td>...</td>\n",
       "      <td>...</td>\n",
       "      <td>...</td>\n",
       "      <td>...</td>\n",
       "      <td>...</td>\n",
       "      <td>...</td>\n",
       "      <td>...</td>\n",
       "      <td>...</td>\n",
       "      <td>...</td>\n",
       "    </tr>\n",
       "    <tr>\n",
       "      <th>1558</th>\n",
       "      <td>0.655</td>\n",
       "      <td>0.876</td>\n",
       "      <td>11</td>\n",
       "      <td>-5.929</td>\n",
       "      <td>0</td>\n",
       "      <td>0.0325</td>\n",
       "      <td>0.000170</td>\n",
       "      <td>0.014100</td>\n",
       "      <td>0.0476</td>\n",
       "      <td>0.673</td>\n",
       "      <td>122.862</td>\n",
       "      <td>audio_features</td>\n",
       "      <td>79qPDRmHmJ5xcU7oyS8CQ1</td>\n",
       "      <td>spotify:track:79qPDRmHmJ5xcU7oyS8CQ1</td>\n",
       "      <td>https://api.spotify.com/v1/tracks/79qPDRmHmJ5x...</td>\n",
       "      <td>https://api.spotify.com/v1/audio-analysis/79qP...</td>\n",
       "      <td>187827</td>\n",
       "      <td>4</td>\n",
       "      <td>3</td>\n",
       "    </tr>\n",
       "    <tr>\n",
       "      <th>1559</th>\n",
       "      <td>0.775</td>\n",
       "      <td>0.606</td>\n",
       "      <td>0</td>\n",
       "      <td>-9.860</td>\n",
       "      <td>1</td>\n",
       "      <td>0.1200</td>\n",
       "      <td>0.042000</td>\n",
       "      <td>0.000000</td>\n",
       "      <td>0.5230</td>\n",
       "      <td>0.788</td>\n",
       "      <td>103.648</td>\n",
       "      <td>audio_features</td>\n",
       "      <td>1poBO3pO6fkqPYG6n8J5cX</td>\n",
       "      <td>spotify:track:1poBO3pO6fkqPYG6n8J5cX</td>\n",
       "      <td>https://api.spotify.com/v1/tracks/1poBO3pO6fkq...</td>\n",
       "      <td>https://api.spotify.com/v1/audio-analysis/1poB...</td>\n",
       "      <td>277293</td>\n",
       "      <td>4</td>\n",
       "      <td>7</td>\n",
       "    </tr>\n",
       "    <tr>\n",
       "      <th>1560</th>\n",
       "      <td>0.621</td>\n",
       "      <td>0.729</td>\n",
       "      <td>2</td>\n",
       "      <td>-11.710</td>\n",
       "      <td>0</td>\n",
       "      <td>0.0306</td>\n",
       "      <td>0.005080</td>\n",
       "      <td>0.000834</td>\n",
       "      <td>0.3350</td>\n",
       "      <td>0.467</td>\n",
       "      <td>134.966</td>\n",
       "      <td>audio_features</td>\n",
       "      <td>2pjj239FG6qY3tj6hhjxeC</td>\n",
       "      <td>spotify:track:2pjj239FG6qY3tj6hhjxeC</td>\n",
       "      <td>https://api.spotify.com/v1/tracks/2pjj239FG6qY...</td>\n",
       "      <td>https://api.spotify.com/v1/audio-analysis/2pjj...</td>\n",
       "      <td>255400</td>\n",
       "      <td>4</td>\n",
       "      <td>5</td>\n",
       "    </tr>\n",
       "    <tr>\n",
       "      <th>1561</th>\n",
       "      <td>0.815</td>\n",
       "      <td>0.587</td>\n",
       "      <td>6</td>\n",
       "      <td>-10.161</td>\n",
       "      <td>0</td>\n",
       "      <td>0.2370</td>\n",
       "      <td>0.001790</td>\n",
       "      <td>0.019300</td>\n",
       "      <td>0.6450</td>\n",
       "      <td>0.754</td>\n",
       "      <td>111.762</td>\n",
       "      <td>audio_features</td>\n",
       "      <td>50DAHcCqneoupFyh96P2GP</td>\n",
       "      <td>spotify:track:50DAHcCqneoupFyh96P2GP</td>\n",
       "      <td>https://api.spotify.com/v1/tracks/50DAHcCqneou...</td>\n",
       "      <td>https://api.spotify.com/v1/audio-analysis/50DA...</td>\n",
       "      <td>261867</td>\n",
       "      <td>4</td>\n",
       "      <td>7</td>\n",
       "    </tr>\n",
       "    <tr>\n",
       "      <th>1562</th>\n",
       "      <td>0.745</td>\n",
       "      <td>0.771</td>\n",
       "      <td>4</td>\n",
       "      <td>-8.231</td>\n",
       "      <td>0</td>\n",
       "      <td>0.0755</td>\n",
       "      <td>0.001040</td>\n",
       "      <td>0.387000</td>\n",
       "      <td>0.0574</td>\n",
       "      <td>0.752</td>\n",
       "      <td>95.623</td>\n",
       "      <td>audio_features</td>\n",
       "      <td>4SYMibQ93bfzOk6uzkF0dO</td>\n",
       "      <td>spotify:track:4SYMibQ93bfzOk6uzkF0dO</td>\n",
       "      <td>https://api.spotify.com/v1/tracks/4SYMibQ93bfz...</td>\n",
       "      <td>https://api.spotify.com/v1/audio-analysis/4SYM...</td>\n",
       "      <td>230187</td>\n",
       "      <td>4</td>\n",
       "      <td>3</td>\n",
       "    </tr>\n",
       "  </tbody>\n",
       "</table>\n",
       "<p>1563 rows × 19 columns</p>\n",
       "</div>"
      ],
      "text/plain": [
       "      danceability  energy  key  loudness  mode  speechiness  acousticness  \\\n",
       "0            0.511   0.970   10    -3.720     1       0.0414      0.000006   \n",
       "1            0.577   0.828    6    -8.691     0       0.0298      0.002130   \n",
       "2            0.543   0.836    4    -9.110     0       0.0353      0.000647   \n",
       "3            0.553   0.362    4   -11.218     0       0.0263      0.045800   \n",
       "4            0.540   0.584    7    -9.579     1       0.0254      0.010800   \n",
       "...            ...     ...  ...       ...   ...          ...           ...   \n",
       "1558         0.655   0.876   11    -5.929     0       0.0325      0.000170   \n",
       "1559         0.775   0.606    0    -9.860     1       0.1200      0.042000   \n",
       "1560         0.621   0.729    2   -11.710     0       0.0306      0.005080   \n",
       "1561         0.815   0.587    6   -10.161     0       0.2370      0.001790   \n",
       "1562         0.745   0.771    4    -8.231     0       0.0755      0.001040   \n",
       "\n",
       "      instrumentalness  liveness  valence    tempo            type  \\\n",
       "0             0.001360    0.1800    0.566  132.986  audio_features   \n",
       "1             0.011400    0.0581    0.604  123.257  audio_features   \n",
       "2             0.431000    0.1530    0.560  105.173  audio_features   \n",
       "3             0.000006    0.0750    0.158  142.352  audio_features   \n",
       "4             0.002960    0.2530    0.244  139.261  audio_features   \n",
       "...                ...       ...      ...      ...             ...   \n",
       "1558          0.014100    0.0476    0.673  122.862  audio_features   \n",
       "1559          0.000000    0.5230    0.788  103.648  audio_features   \n",
       "1560          0.000834    0.3350    0.467  134.966  audio_features   \n",
       "1561          0.019300    0.6450    0.754  111.762  audio_features   \n",
       "1562          0.387000    0.0574    0.752   95.623  audio_features   \n",
       "\n",
       "                          id                                   uri  \\\n",
       "0     2R6UrJ8uWbSIiHWmvRQvN8  spotify:track:2R6UrJ8uWbSIiHWmvRQvN8   \n",
       "1     5sICkBXVmaCQk5aISGR3x1  spotify:track:5sICkBXVmaCQk5aISGR3x1   \n",
       "2     2MuWTIM3b0YEAskbeeFE1i  spotify:track:2MuWTIM3b0YEAskbeeFE1i   \n",
       "3     0nLiqZ6A27jJri2VCalIUs  spotify:track:0nLiqZ6A27jJri2VCalIUs   \n",
       "4     4aYLAF6ckQ5ooGGGM7sWAa  spotify:track:4aYLAF6ckQ5ooGGGM7sWAa   \n",
       "...                      ...                                   ...   \n",
       "1558  79qPDRmHmJ5xcU7oyS8CQ1  spotify:track:79qPDRmHmJ5xcU7oyS8CQ1   \n",
       "1559  1poBO3pO6fkqPYG6n8J5cX  spotify:track:1poBO3pO6fkqPYG6n8J5cX   \n",
       "1560  2pjj239FG6qY3tj6hhjxeC  spotify:track:2pjj239FG6qY3tj6hhjxeC   \n",
       "1561  50DAHcCqneoupFyh96P2GP  spotify:track:50DAHcCqneoupFyh96P2GP   \n",
       "1562  4SYMibQ93bfzOk6uzkF0dO  spotify:track:4SYMibQ93bfzOk6uzkF0dO   \n",
       "\n",
       "                                             track_href  \\\n",
       "0     https://api.spotify.com/v1/tracks/2R6UrJ8uWbSI...   \n",
       "1     https://api.spotify.com/v1/tracks/5sICkBXVmaCQ...   \n",
       "2     https://api.spotify.com/v1/tracks/2MuWTIM3b0YE...   \n",
       "3     https://api.spotify.com/v1/tracks/0nLiqZ6A27jJ...   \n",
       "4     https://api.spotify.com/v1/tracks/4aYLAF6ckQ5o...   \n",
       "...                                                 ...   \n",
       "1558  https://api.spotify.com/v1/tracks/79qPDRmHmJ5x...   \n",
       "1559  https://api.spotify.com/v1/tracks/1poBO3pO6fkq...   \n",
       "1560  https://api.spotify.com/v1/tracks/2pjj239FG6qY...   \n",
       "1561  https://api.spotify.com/v1/tracks/50DAHcCqneou...   \n",
       "1562  https://api.spotify.com/v1/tracks/4SYMibQ93bfz...   \n",
       "\n",
       "                                           analysis_url  duration_ms  \\\n",
       "0     https://api.spotify.com/v1/audio-analysis/2R6U...       304693   \n",
       "1     https://api.spotify.com/v1/audio-analysis/5sIC...       331267   \n",
       "2     https://api.spotify.com/v1/audio-analysis/2MuW...       515387   \n",
       "3     https://api.spotify.com/v1/audio-analysis/0nLi...       388267   \n",
       "4     https://api.spotify.com/v1/audio-analysis/4aYL...       386493   \n",
       "...                                                 ...          ...   \n",
       "1558  https://api.spotify.com/v1/audio-analysis/79qP...       187827   \n",
       "1559  https://api.spotify.com/v1/audio-analysis/1poB...       277293   \n",
       "1560  https://api.spotify.com/v1/audio-analysis/2pjj...       255400   \n",
       "1561  https://api.spotify.com/v1/audio-analysis/50DA...       261867   \n",
       "1562  https://api.spotify.com/v1/audio-analysis/4SYM...       230187   \n",
       "\n",
       "      time_signature  cluster  \n",
       "0                  4        6  \n",
       "1                  4        3  \n",
       "2                  4        3  \n",
       "3                  3        2  \n",
       "4                  4        5  \n",
       "...              ...      ...  \n",
       "1558               4        3  \n",
       "1559               4        7  \n",
       "1560               4        5  \n",
       "1561               4        7  \n",
       "1562               4        3  \n",
       "\n",
       "[1563 rows x 19 columns]"
      ]
     },
     "execution_count": 107,
     "metadata": {},
     "output_type": "execute_result"
    }
   ],
   "source": [
    "df1"
   ]
  },
  {
   "cell_type": "code",
   "execution_count": 108,
   "id": "04484a65-0963-4182-b50c-7d87469384d3",
   "metadata": {},
   "outputs": [],
   "source": [
    "df1.to_csv('model_cluster_data.csv', index=False)"
   ]
  },
  {
   "cell_type": "code",
   "execution_count": null,
   "id": "51b666d8-de65-441b-ace5-87d00a7d6675",
   "metadata": {},
   "outputs": [],
   "source": []
  },
  {
   "cell_type": "code",
   "execution_count": null,
   "id": "e97a4c43-5323-4cd6-b165-03957fb9c2b2",
   "metadata": {},
   "outputs": [],
   "source": []
  },
  {
   "cell_type": "code",
   "execution_count": null,
   "id": "c33dc403-3c01-4418-8a35-4a1ab39bed63",
   "metadata": {},
   "outputs": [],
   "source": []
  },
  {
   "cell_type": "code",
   "execution_count": null,
   "id": "e97f4915-9dda-45a6-917a-72433e4b62e3",
   "metadata": {},
   "outputs": [],
   "source": []
  },
  {
   "cell_type": "code",
   "execution_count": null,
   "id": "9a80f539-a64c-4fda-9479-55df7248bb18",
   "metadata": {},
   "outputs": [],
   "source": []
  },
  {
   "cell_type": "code",
   "execution_count": null,
   "id": "cb68714f-b748-423f-857b-adce788a6624",
   "metadata": {},
   "outputs": [],
   "source": []
  },
  {
   "cell_type": "code",
   "execution_count": null,
   "id": "85517280-0976-4081-a05b-c688ae50ee06",
   "metadata": {},
   "outputs": [],
   "source": []
  },
  {
   "cell_type": "code",
   "execution_count": null,
   "id": "c7217dea-2acb-4578-87e4-8ec46ff0e5a7",
   "metadata": {},
   "outputs": [],
   "source": []
  },
  {
   "cell_type": "code",
   "execution_count": null,
   "id": "a68ead60-027f-462a-b490-2eddfc80865c",
   "metadata": {},
   "outputs": [],
   "source": []
  },
  {
   "cell_type": "code",
   "execution_count": null,
   "id": "50f00c54-ff66-4dab-b4bc-2aaa6b544958",
   "metadata": {},
   "outputs": [],
   "source": []
  }
 ],
 "metadata": {
  "kernelspec": {
   "display_name": "Python 3 (ipykernel)",
   "language": "python",
   "name": "python3"
  },
  "language_info": {
   "codemirror_mode": {
    "name": "ipython",
    "version": 3
   },
   "file_extension": ".py",
   "mimetype": "text/x-python",
   "name": "python",
   "nbconvert_exporter": "python",
   "pygments_lexer": "ipython3",
   "version": "3.8.18"
  }
 },
 "nbformat": 4,
 "nbformat_minor": 5
}
