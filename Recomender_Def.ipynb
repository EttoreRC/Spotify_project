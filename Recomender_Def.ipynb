{
 "cells": [
  {
   "cell_type": "markdown",
   "id": "b6d4e784-6ebf-4c7d-8d53-dbba5c8ba294",
   "metadata": {},
   "source": [
    "### Recomender "
   ]
  },
  {
   "cell_type": "code",
   "execution_count": 37,
   "id": "e9b91e96-400c-4355-af7b-40503ee87a8a",
   "metadata": {},
   "outputs": [
    {
     "name": "stdout",
     "output_type": "stream",
     "text": [
      "Requirement already satisfied: fuzzywuzzy in c:\\users\\ettore\\anaconda3\\lib\\site-packages (0.18.0)\n",
      "Note: you may need to restart the kernel to use updated packages.\n"
     ]
    }
   ],
   "source": [
    "pip install fuzzywuzzy"
   ]
  },
  {
   "cell_type": "code",
   "execution_count": 45,
   "id": "d040a748-6add-480a-8ffa-a7275d651835",
   "metadata": {},
   "outputs": [
    {
     "name": "stdin",
     "output_type": "stream",
     "text": [
      "Enter a song:  uptown funk\n"
     ]
    },
    {
     "name": "stdout",
     "output_type": "stream",
     "text": [
      "Your song is not in the Billboard chart. We suggest you another song.\n"
     ]
    },
    {
     "data": {
      "text/html": [
       "\n",
       "        <iframe\n",
       "            width=\"320\"\n",
       "            height=\"80\"\n",
       "            src=\"https://open.spotify.com/embed/track/32OlwWuMpZ6b0aN2RZOeMS?frameborder=0&allowtransparency=true&allow=encrypted-media\"\n",
       "            frameborder=\"0\"\n",
       "            allowfullscreen\n",
       "            \n",
       "        ></iframe>\n",
       "        "
      ],
      "text/plain": [
       "<IPython.lib.display.IFrame at 0x24e5f4c3be0>"
      ]
     },
     "metadata": {},
     "output_type": "display_data"
    },
    {
     "data": {
      "text/html": [
       "\n",
       "        <iframe\n",
       "            width=\"320\"\n",
       "            height=\"80\"\n",
       "            src=\"https://open.spotify.com/embed/track/7EkWXAI1wn8Ii883ecd9xr?frameborder=0&allowtransparency=true&allow=encrypted-media\"\n",
       "            frameborder=\"0\"\n",
       "            allowfullscreen\n",
       "            \n",
       "        ></iframe>\n",
       "        "
      ],
      "text/plain": [
       "<IPython.lib.display.IFrame at 0x24e5bd96e20>"
      ]
     },
     "metadata": {},
     "output_type": "display_data"
    }
   ],
   "source": [
    "import pandas as pd\n",
    "import config\n",
    "import spotipy\n",
    "from IPython.display import IFrame\n",
    "from spotipy.oauth2 import SpotifyClientCredentials\n",
    "import pickle\n",
    "from fuzzywuzzy import fuzz\n",
    "\n",
    "# Initialize Spotipy\n",
    "sp = spotipy.Spotify(auth_manager=SpotifyClientCredentials(client_id=config.client_id,\n",
    "                                                           client_secret=config.client_secret))\n",
    "\n",
    "# Load necessary data\n",
    "df = pd.read_csv(r\"C:\\Users\\ETTORE\\Documents\\Iron Hack\\week 6\\model_cluster_data.csv\")\n",
    "top100_chart = pd.read_csv(r\"C:\\Users\\ETTORE\\Documents\\Iron Hack\\week 6\\billboard_data.csv\")\n",
    "\n",
    "# Load scaler and kmeans_model\n",
    "def load(spot_model=\"spot_model.pickle\"):\n",
    "    try:\n",
    "        with open(spot_model, \"rb\") as f:\n",
    "            return pickle.load(f)\n",
    "    except FileNotFoundError:\n",
    "        print(\"File not found!\")\n",
    "\n",
    "scaler = load(spot_model=\"scaler_spot.pickle\")\n",
    "kmeans_model = load(spot_model=\"spot_model.pickle\")\n",
    "\n",
    "# Function to recommend a song\n",
    "def recommend_song(input_song):\n",
    "    # Search for the input song\n",
    "    results = sp.search(q=input_song, limit=1, market=\"GB\")\n",
    "    track_id = results[\"tracks\"][\"items\"][0][\"id\"]\n",
    "    \n",
    "    # Extract audio features of the input song\n",
    "    song_features = pd.DataFrame(sp.audio_features(track_id)).drop(columns=['analysis_url', 'track_href', 'uri', 'id', 'type',\"duration_ms\"])\n",
    "    sf_scaled = pd.DataFrame(scaler.transform(song_features), columns=song_features.columns)\n",
    "    \n",
    "    # Predict the cluster of the input song\n",
    "    predicted_cluster = kmeans_model.predict(sf_scaled)\n",
    "    predicted_cluster_value = predicted_cluster[0]  # Extracting the cluster value\n",
    "    \n",
    "    # Filter dataframe to find a recommended song from the same cluster\n",
    "    rec_song = df[df['cluster'] == predicted_cluster_value].sample(1)\n",
    "    return rec_song, track_id\n",
    "\n",
    "# Get user input\n",
    "input_song = input(\"Enter a song: \")\n",
    "\n",
    "# Preprocess user input and song titles to lowercase\n",
    "input_song_lower = input_song.lower()\n",
    "top100_chart['songs_lower'] = top100_chart['songs'].apply(lambda x: x.lower())\n",
    "\n",
    "# Check if the song is in billboard_data.csv\n",
    "found_match = False\n",
    "for song_title_lower in top100_chart['songs_lower']:\n",
    "    if fuzz.partial_ratio(input_song_lower, song_title_lower) >= 90:  # Using fuzzy matching threshold of 90\n",
    "        input_song = top100_chart[top100_chart['songs_lower'] == song_title_lower]['songs'].iloc[0]\n",
    "        found_match = True\n",
    "        break\n",
    "\n",
    "if found_match:\n",
    "    print(\"Your song is cool!\")\n",
    "    # Search for the song on Spotify\n",
    "    results = sp.search(q=input_song, limit=1, market=\"GB\")\n",
    "    track_id = results[\"tracks\"][\"items\"][0][\"id\"]\n",
    "    # Display the Spotify player for the recognized song\n",
    "    display(IFrame(src=\"https://open.spotify.com/embed/track/\" + track_id, width=\"320\", height=\"80\", frameborder=\"0\", allowtransparency=\"true\", allow=\"encrypted-media\"))\n",
    "else:\n",
    "    print(\"Your song is not in the Billboard chart. We suggest you another song.\")\n",
    "    # Call the recommend_song function\n",
    "    recommendation, user_track_id = recommend_song(input_song)\n",
    "    recommended_track_id = recommendation['id'].values[0]\n",
    "    # Display the Spotify embedded players for the user's input song and the recommended song\n",
    "    user_track_player = IFrame(src=\"https://open.spotify.com/embed/track/\" + user_track_id,\n",
    "                               width=\"320\",\n",
    "                               height=\"80\",\n",
    "                               frameborder=\"0\",\n",
    "                               allowtransparency=\"true\",\n",
    "                               allow=\"encrypted-media\")\n",
    "\n",
    "    recommended_track_player = IFrame(src=\"https://open.spotify.com/embed/track/\" + recommended_track_id,\n",
    "                                      width=\"320\",\n",
    "                                      height=\"80\",\n",
    "                                      frameborder=\"0\",\n",
    "                                      allowtransparency=\"true\",\n",
    "                                      allow=\"encrypted-media\")\n",
    "\n",
    "    # Display both players\n",
    "    display(user_track_player)\n",
    "    display(recommended_track_player)\n"
   ]
  },
  {
   "cell_type": "code",
   "execution_count": null,
   "id": "6d6e0741-5f41-4f13-863a-40c0b23284c8",
   "metadata": {},
   "outputs": [],
   "source": []
  },
  {
   "cell_type": "code",
   "execution_count": null,
   "id": "7fb89133-4257-4294-813d-b1b10ea24041",
   "metadata": {},
   "outputs": [],
   "source": []
  },
  {
   "cell_type": "code",
   "execution_count": null,
   "id": "167aed07-3f99-4faa-b952-69b41e72c57e",
   "metadata": {},
   "outputs": [],
   "source": []
  },
  {
   "cell_type": "code",
   "execution_count": null,
   "id": "e43c360c-644c-4434-a477-df8a05e360de",
   "metadata": {},
   "outputs": [],
   "source": []
  },
  {
   "cell_type": "code",
   "execution_count": null,
   "id": "66713a0e-9432-4fb1-a7bd-a4df09fe2d03",
   "metadata": {},
   "outputs": [],
   "source": []
  },
  {
   "cell_type": "code",
   "execution_count": null,
   "id": "7c1a554a-20e1-4be3-909c-fc3d233927c3",
   "metadata": {},
   "outputs": [],
   "source": []
  },
  {
   "cell_type": "code",
   "execution_count": null,
   "id": "fdceac06-2f06-4562-b4f4-79511d32842f",
   "metadata": {},
   "outputs": [],
   "source": []
  },
  {
   "cell_type": "markdown",
   "id": "68248818-1fbb-46ff-a10b-a201b3657a2f",
   "metadata": {},
   "source": [
    "### Check everything is ok"
   ]
  },
  {
   "cell_type": "code",
   "execution_count": 34,
   "id": "be88e9fa-7568-4b1e-95d7-dbc92f2f37ce",
   "metadata": {},
   "outputs": [
    {
     "data": {
      "text/plain": [
       "array([0, 1, 2, 3, 4, 5, 6, 7])"
      ]
     },
     "execution_count": 34,
     "metadata": {},
     "output_type": "execute_result"
    }
   ],
   "source": [
    "import numpy as np\n",
    "np.unique(kmeans_model.labels_)"
   ]
  },
  {
   "cell_type": "code",
   "execution_count": 35,
   "id": "3a7aa963-6dc5-42dd-b2f0-cbcfd749e7f9",
   "metadata": {},
   "outputs": [
    {
     "data": {
      "text/plain": [
       "cluster\n",
       "2    281\n",
       "4    265\n",
       "6    188\n",
       "7    166\n",
       "1    148\n",
       "3    113\n",
       "0     78\n",
       "5     34\n",
       "Name: count, dtype: int64"
      ]
     },
     "execution_count": 35,
     "metadata": {},
     "output_type": "execute_result"
    }
   ],
   "source": [
    "df[\"cluster\"].value_counts()"
   ]
  },
  {
   "cell_type": "code",
   "execution_count": null,
   "id": "ae8d207a-cb90-4e9e-b8f7-a21617d715c2",
   "metadata": {},
   "outputs": [],
   "source": []
  }
 ],
 "metadata": {
  "kernelspec": {
   "display_name": "Python 3 (ipykernel)",
   "language": "python",
   "name": "python3"
  },
  "language_info": {
   "codemirror_mode": {
    "name": "ipython",
    "version": 3
   },
   "file_extension": ".py",
   "mimetype": "text/x-python",
   "name": "python",
   "nbconvert_exporter": "python",
   "pygments_lexer": "ipython3",
   "version": "3.8.18"
  }
 },
 "nbformat": 4,
 "nbformat_minor": 5
}
